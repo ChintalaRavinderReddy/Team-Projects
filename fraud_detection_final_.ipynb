{
  "nbformat": 4,
  "nbformat_minor": 0,
  "metadata": {
    "colab": {
      "name": "fraud detection final .ipynb",
      "provenance": [],
      "collapsed_sections": []
    },
    "kernelspec": {
      "name": "python3",
      "display_name": "Python 3"
    },
    "language_info": {
      "name": "python"
    }
  },
  "cells": [
    {
      "cell_type": "markdown",
      "source": [
        "## Fraud Detection Model using paysim dataset"
      ],
      "metadata": {
        "id": "V1sK9jMhTbs6"
      }
    },
    {
      "cell_type": "markdown",
      "source": [
        "\n",
        "### The columns are:\n",
        "\n",
        "  -step (numerical): Unit of time in the real world. In this case 1 step is 1 hour of time.\n",
        "\n",
        "  -type (categorical): CASH-IN, CASH-OUT, DEBIT, PAYMENT and TRANSFER\n",
        "  \n",
        "  -amount (numerical): amount of the transaction\n",
        "  \n",
        "  -nameOrig: customer who started the transaction\n",
        "  \n",
        "  -oldbalanceOrg (numerical): initial balance before the transaction\n",
        "  \n",
        "  -newbalanceOrig (numerical): customer's balance after the transaction.\n",
        "  \n",
        "  -nameDest: recipient ID of the transaction.\n",
        "  \n",
        "  -oldbalanceDest (numerical): initial recipient balance before the transaction.\n",
        "  \n",
        "  -newbalanceDest (numerical): recipient's balance after the transaction.\n",
        "  \n",
        "  -isFraud (boolean): identifies a fraudulent transaction (1) and non fraudulent (0)\n",
        "  \n",
        "  -isFlaggedFraud (boolean): flags illegal attempts to transfer more  in a single transaction.\n",
        "  \n",
        "  *Number of rows: 6.362620e+06\n"
      ],
      "metadata": {
        "id": "MvqBZWZbXYph"
      }
    },
    {
      "cell_type": "markdown",
      "source": [
        "### Content:\n",
        "1. Load the Data\n",
        "  - Import libraries\n",
        "  - Load the datasets\n",
        "  \n",
        "2. Overview of the Data\n",
        "  - Descriptive Statistics\n",
        "  - Missing Values\n",
        "  \n",
        "3. Exploratory Data Analysis\n",
        "  - Create list of columns by data type\n",
        "  - Check the distribution of target class\n",
        "  - Check the distribution of every feature\n",
        "  - Check how differnt numerical features are realated to target class\n",
        "  \n",
        "4. Data Preparation\n",
        "- Clean the data\n",
        "- Categorize the \"isFraud\"\n",
        "- Split the dataset in X and y dataset\n",
        "- Resampling using Smote\n",
        "- Split the data in train and test set\n",
        "  \n",
        "5. Model Building\n",
        "  - Train Model\n",
        "  - Model Prediction\n",
        "  - Model Evaluation\n",
        "  \n",
        "7. Improve Model\n",
        "  \n",
        " Conclusion"
      ],
      "metadata": {
        "id": "7pQq7RTuXPOi"
      }
    },
    {
      "cell_type": "markdown",
      "source": [
        "## 1. Load the Data\n",
        "\n",
        "In this section you will:\n",
        "\n",
        "- Import the libraries\n",
        "- Load the dataset"
      ],
      "metadata": {
        "id": "Kta7I1rpT9zW"
      }
    },
    {
      "cell_type": "markdown",
      "source": [
        "### 1.1. Import Libraries\n",
        "\n",
        "Import all the libraries in the first cell itself"
      ],
      "metadata": {
        "id": "7dlQXyCoVJye"
      }
    },
    {
      "cell_type": "code",
      "source": [
        "# Import libraries \n",
        "\n",
        "# Data Manipulation\n",
        "import numpy as np \n",
        "import pandas as pd\n",
        "from   pandas import DataFrame\n",
        "\n",
        "# Data Visualization\n",
        "import seaborn as sns\n",
        "import matplotlib.pyplot as plt\n",
        "\n",
        "# Machine Learning\n",
        "from   sklearn.preprocessing import LabelEncoder, StandardScaler, OrdinalEncoder\n",
        "from   sklearn.impute import SimpleImputer\n",
        "from   sklearn.model_selection import cross_val_score,train_test_split\n",
        "from   sklearn.metrics import confusion_matrix , classification_report, accuracy_score, roc_auc_score, plot_roc_curve\n",
        "from   sklearn.linear_model import LogisticRegression\n",
        "from   sklearn.tree import DecisionTreeClassifier\n",
        "from   sklearn.ensemble import RandomForestClassifier\n",
        "from   xgboost import XGBClassifier\n",
        "from   lightgbm import LGBMClassifier\n",
        "from   imblearn.over_sampling import SMOTE"
      ],
      "metadata": {
        "id": "1ZM1MdFSUNpW"
      },
      "execution_count": null,
      "outputs": []
    },
    {
      "cell_type": "markdown",
      "source": [
        "### 1.2. Load the datasets\n",
        "\n",
        "Load the dataset using pd.read_csv()"
      ],
      "metadata": {
        "id": "cQoGLhD3Vozs"
      }
    },
    {
      "cell_type": "code",
      "source": [
        "# Read data in form of a csv file\n",
        "dframe = pd.read_csv('/content/drive/MyDrive/paysim/paysimdataset.csv')\n",
        "df=dframe\n",
        "# First 5 rows of the dataset\n",
        "df.head()"
      ],
      "metadata": {
        "colab": {
          "base_uri": "https://localhost:8080/",
          "height": 270
        },
        "id": "H2Z0dgDhVAmm",
        "outputId": "d78d56d1-418e-4c51-ae9b-311efa21734a"
      },
      "execution_count": null,
      "outputs": [
        {
          "output_type": "execute_result",
          "data": {
            "text/html": [
              "\n",
              "  <div id=\"df-8c23aeea-a997-4a8a-a9ff-36aa30978ebc\">\n",
              "    <div class=\"colab-df-container\">\n",
              "      <div>\n",
              "<style scoped>\n",
              "    .dataframe tbody tr th:only-of-type {\n",
              "        vertical-align: middle;\n",
              "    }\n",
              "\n",
              "    .dataframe tbody tr th {\n",
              "        vertical-align: top;\n",
              "    }\n",
              "\n",
              "    .dataframe thead th {\n",
              "        text-align: right;\n",
              "    }\n",
              "</style>\n",
              "<table border=\"1\" class=\"dataframe\">\n",
              "  <thead>\n",
              "    <tr style=\"text-align: right;\">\n",
              "      <th></th>\n",
              "      <th>step</th>\n",
              "      <th>type</th>\n",
              "      <th>amount</th>\n",
              "      <th>nameOrig</th>\n",
              "      <th>oldbalanceOrg</th>\n",
              "      <th>newbalanceOrig</th>\n",
              "      <th>nameDest</th>\n",
              "      <th>oldbalanceDest</th>\n",
              "      <th>newbalanceDest</th>\n",
              "      <th>isFraud</th>\n",
              "      <th>isFlaggedFraud</th>\n",
              "    </tr>\n",
              "  </thead>\n",
              "  <tbody>\n",
              "    <tr>\n",
              "      <th>0</th>\n",
              "      <td>1</td>\n",
              "      <td>PAYMENT</td>\n",
              "      <td>9839.64</td>\n",
              "      <td>C1231006815</td>\n",
              "      <td>170136.0</td>\n",
              "      <td>160296.36</td>\n",
              "      <td>M1979787155</td>\n",
              "      <td>0.0</td>\n",
              "      <td>0.0</td>\n",
              "      <td>0</td>\n",
              "      <td>0</td>\n",
              "    </tr>\n",
              "    <tr>\n",
              "      <th>1</th>\n",
              "      <td>1</td>\n",
              "      <td>PAYMENT</td>\n",
              "      <td>1864.28</td>\n",
              "      <td>C1666544295</td>\n",
              "      <td>21249.0</td>\n",
              "      <td>19384.72</td>\n",
              "      <td>M2044282225</td>\n",
              "      <td>0.0</td>\n",
              "      <td>0.0</td>\n",
              "      <td>0</td>\n",
              "      <td>0</td>\n",
              "    </tr>\n",
              "    <tr>\n",
              "      <th>2</th>\n",
              "      <td>1</td>\n",
              "      <td>TRANSFER</td>\n",
              "      <td>181.00</td>\n",
              "      <td>C1305486145</td>\n",
              "      <td>181.0</td>\n",
              "      <td>0.00</td>\n",
              "      <td>C553264065</td>\n",
              "      <td>0.0</td>\n",
              "      <td>0.0</td>\n",
              "      <td>1</td>\n",
              "      <td>0</td>\n",
              "    </tr>\n",
              "    <tr>\n",
              "      <th>3</th>\n",
              "      <td>1</td>\n",
              "      <td>CASH_OUT</td>\n",
              "      <td>181.00</td>\n",
              "      <td>C840083671</td>\n",
              "      <td>181.0</td>\n",
              "      <td>0.00</td>\n",
              "      <td>C38997010</td>\n",
              "      <td>21182.0</td>\n",
              "      <td>0.0</td>\n",
              "      <td>1</td>\n",
              "      <td>0</td>\n",
              "    </tr>\n",
              "    <tr>\n",
              "      <th>4</th>\n",
              "      <td>1</td>\n",
              "      <td>PAYMENT</td>\n",
              "      <td>11668.14</td>\n",
              "      <td>C2048537720</td>\n",
              "      <td>41554.0</td>\n",
              "      <td>29885.86</td>\n",
              "      <td>M1230701703</td>\n",
              "      <td>0.0</td>\n",
              "      <td>0.0</td>\n",
              "      <td>0</td>\n",
              "      <td>0</td>\n",
              "    </tr>\n",
              "  </tbody>\n",
              "</table>\n",
              "</div>\n",
              "      <button class=\"colab-df-convert\" onclick=\"convertToInteractive('df-8c23aeea-a997-4a8a-a9ff-36aa30978ebc')\"\n",
              "              title=\"Convert this dataframe to an interactive table.\"\n",
              "              style=\"display:none;\">\n",
              "        \n",
              "  <svg xmlns=\"http://www.w3.org/2000/svg\" height=\"24px\"viewBox=\"0 0 24 24\"\n",
              "       width=\"24px\">\n",
              "    <path d=\"M0 0h24v24H0V0z\" fill=\"none\"/>\n",
              "    <path d=\"M18.56 5.44l.94 2.06.94-2.06 2.06-.94-2.06-.94-.94-2.06-.94 2.06-2.06.94zm-11 1L8.5 8.5l.94-2.06 2.06-.94-2.06-.94L8.5 2.5l-.94 2.06-2.06.94zm10 10l.94 2.06.94-2.06 2.06-.94-2.06-.94-.94-2.06-.94 2.06-2.06.94z\"/><path d=\"M17.41 7.96l-1.37-1.37c-.4-.4-.92-.59-1.43-.59-.52 0-1.04.2-1.43.59L10.3 9.45l-7.72 7.72c-.78.78-.78 2.05 0 2.83L4 21.41c.39.39.9.59 1.41.59.51 0 1.02-.2 1.41-.59l7.78-7.78 2.81-2.81c.8-.78.8-2.07 0-2.86zM5.41 20L4 18.59l7.72-7.72 1.47 1.35L5.41 20z\"/>\n",
              "  </svg>\n",
              "      </button>\n",
              "      \n",
              "  <style>\n",
              "    .colab-df-container {\n",
              "      display:flex;\n",
              "      flex-wrap:wrap;\n",
              "      gap: 12px;\n",
              "    }\n",
              "\n",
              "    .colab-df-convert {\n",
              "      background-color: #E8F0FE;\n",
              "      border: none;\n",
              "      border-radius: 50%;\n",
              "      cursor: pointer;\n",
              "      display: none;\n",
              "      fill: #1967D2;\n",
              "      height: 32px;\n",
              "      padding: 0 0 0 0;\n",
              "      width: 32px;\n",
              "    }\n",
              "\n",
              "    .colab-df-convert:hover {\n",
              "      background-color: #E2EBFA;\n",
              "      box-shadow: 0px 1px 2px rgba(60, 64, 67, 0.3), 0px 1px 3px 1px rgba(60, 64, 67, 0.15);\n",
              "      fill: #174EA6;\n",
              "    }\n",
              "\n",
              "    [theme=dark] .colab-df-convert {\n",
              "      background-color: #3B4455;\n",
              "      fill: #D2E3FC;\n",
              "    }\n",
              "\n",
              "    [theme=dark] .colab-df-convert:hover {\n",
              "      background-color: #434B5C;\n",
              "      box-shadow: 0px 1px 3px 1px rgba(0, 0, 0, 0.15);\n",
              "      filter: drop-shadow(0px 1px 2px rgba(0, 0, 0, 0.3));\n",
              "      fill: #FFFFFF;\n",
              "    }\n",
              "  </style>\n",
              "\n",
              "      <script>\n",
              "        const buttonEl =\n",
              "          document.querySelector('#df-8c23aeea-a997-4a8a-a9ff-36aa30978ebc button.colab-df-convert');\n",
              "        buttonEl.style.display =\n",
              "          google.colab.kernel.accessAllowed ? 'block' : 'none';\n",
              "\n",
              "        async function convertToInteractive(key) {\n",
              "          const element = document.querySelector('#df-8c23aeea-a997-4a8a-a9ff-36aa30978ebc');\n",
              "          const dataTable =\n",
              "            await google.colab.kernel.invokeFunction('convertToInteractive',\n",
              "                                                     [key], {});\n",
              "          if (!dataTable) return;\n",
              "\n",
              "          const docLinkHtml = 'Like what you see? Visit the ' +\n",
              "            '<a target=\"_blank\" href=https://colab.research.google.com/notebooks/data_table.ipynb>data table notebook</a>'\n",
              "            + ' to learn more about interactive tables.';\n",
              "          element.innerHTML = '';\n",
              "          dataTable['output_type'] = 'display_data';\n",
              "          await google.colab.output.renderOutput(dataTable, element);\n",
              "          const docLink = document.createElement('div');\n",
              "          docLink.innerHTML = docLinkHtml;\n",
              "          element.appendChild(docLink);\n",
              "        }\n",
              "      </script>\n",
              "    </div>\n",
              "  </div>\n",
              "  "
            ],
            "text/plain": [
              "   step      type    amount  ... newbalanceDest  isFraud  isFlaggedFraud\n",
              "0     1   PAYMENT   9839.64  ...            0.0        0               0\n",
              "1     1   PAYMENT   1864.28  ...            0.0        0               0\n",
              "2     1  TRANSFER    181.00  ...            0.0        1               0\n",
              "3     1  CASH_OUT    181.00  ...            0.0        1               0\n",
              "4     1   PAYMENT  11668.14  ...            0.0        0               0\n",
              "\n",
              "[5 rows x 11 columns]"
            ]
          },
          "metadata": {},
          "execution_count": 57
        }
      ]
    },
    {
      "cell_type": "markdown",
      "source": [
        "# 2. Overview of the Data\n",
        "\n",
        "Before attempting to solve the problem, it's very important to have a good understanding of data.\n",
        "\n",
        "In this section you will:\n",
        "- Get the descriptive statistics of the data\n",
        "- Get the information about missing values in the data"
      ],
      "metadata": {
        "id": "8sd7t_ydV5RC"
      }
    },
    {
      "cell_type": "markdown",
      "source": [
        "### 2.1. Descriptive Statistics\n",
        "\n",
        "As the name says descriptive statistics describes the data. It gives you information about\n",
        "- Mean, median, mode \n",
        "- Min, max\n",
        "- Count etc\n",
        "\n",
        "Let's understand the data we have"
      ],
      "metadata": {
        "id": "sivGTtt2WFOV"
      }
    },
    {
      "cell_type": "code",
      "source": [
        "# Dimension of the data\n",
        "df.shape"
      ],
      "metadata": {
        "colab": {
          "base_uri": "https://localhost:8080/"
        },
        "id": "RqUkRqPHVw_A",
        "outputId": "9ee9e475-a081-4518-ac41-c6444b56af24"
      },
      "execution_count": null,
      "outputs": [
        {
          "output_type": "execute_result",
          "data": {
            "text/plain": [
              "(6362620, 11)"
            ]
          },
          "metadata": {},
          "execution_count": 58
        }
      ]
    },
    {
      "cell_type": "code",
      "source": [
        "df.columns"
      ],
      "metadata": {
        "colab": {
          "base_uri": "https://localhost:8080/"
        },
        "id": "xRQrqod7Dh37",
        "outputId": "c5fbcbd0-4be4-4f16-800a-994a75d39d1b"
      },
      "execution_count": null,
      "outputs": [
        {
          "output_type": "execute_result",
          "data": {
            "text/plain": [
              "Index(['step', 'type', 'amount', 'nameOrig', 'oldbalanceOrg', 'newbalanceOrig',\n",
              "       'nameDest', 'oldbalanceDest', 'newbalanceDest', 'isFraud',\n",
              "       'isFlaggedFraud'],\n",
              "      dtype='object')"
            ]
          },
          "metadata": {},
          "execution_count": 59
        }
      ]
    },
    {
      "cell_type": "code",
      "source": [
        "# Summary of the dataset\n",
        "# Descriptive statistics\n",
        "df.describe(percentiles=[0.25, 0.5, 0.75, 0.9, 0.95, 0.99]).T"
      ],
      "metadata": {
        "colab": {
          "base_uri": "https://localhost:8080/",
          "height": 364
        },
        "id": "_8rYwhxUWLOn",
        "outputId": "7f4abac7-878e-4d5e-924e-b2e5562cfea1"
      },
      "execution_count": null,
      "outputs": [
        {
          "output_type": "execute_result",
          "data": {
            "text/html": [
              "\n",
              "  <div id=\"df-b7ed254a-7bde-462c-9bc5-612acd2953ad\">\n",
              "    <div class=\"colab-df-container\">\n",
              "      <div>\n",
              "<style scoped>\n",
              "    .dataframe tbody tr th:only-of-type {\n",
              "        vertical-align: middle;\n",
              "    }\n",
              "\n",
              "    .dataframe tbody tr th {\n",
              "        vertical-align: top;\n",
              "    }\n",
              "\n",
              "    .dataframe thead th {\n",
              "        text-align: right;\n",
              "    }\n",
              "</style>\n",
              "<table border=\"1\" class=\"dataframe\">\n",
              "  <thead>\n",
              "    <tr style=\"text-align: right;\">\n",
              "      <th></th>\n",
              "      <th>count</th>\n",
              "      <th>mean</th>\n",
              "      <th>std</th>\n",
              "      <th>min</th>\n",
              "      <th>25%</th>\n",
              "      <th>50%</th>\n",
              "      <th>75%</th>\n",
              "      <th>90%</th>\n",
              "      <th>95%</th>\n",
              "      <th>99%</th>\n",
              "      <th>max</th>\n",
              "    </tr>\n",
              "  </thead>\n",
              "  <tbody>\n",
              "    <tr>\n",
              "      <th>step</th>\n",
              "      <td>6362620.0</td>\n",
              "      <td>2.433972e+02</td>\n",
              "      <td>1.423320e+02</td>\n",
              "      <td>1.0</td>\n",
              "      <td>156.00</td>\n",
              "      <td>239.000</td>\n",
              "      <td>3.350000e+02</td>\n",
              "      <td>399.000</td>\n",
              "      <td>4.900000e+02</td>\n",
              "      <td>6.810000e+02</td>\n",
              "      <td>7.430000e+02</td>\n",
              "    </tr>\n",
              "    <tr>\n",
              "      <th>amount</th>\n",
              "      <td>6362620.0</td>\n",
              "      <td>1.798619e+05</td>\n",
              "      <td>6.038582e+05</td>\n",
              "      <td>0.0</td>\n",
              "      <td>13389.57</td>\n",
              "      <td>74871.940</td>\n",
              "      <td>2.087215e+05</td>\n",
              "      <td>365423.309</td>\n",
              "      <td>5.186342e+05</td>\n",
              "      <td>1.615979e+06</td>\n",
              "      <td>9.244552e+07</td>\n",
              "    </tr>\n",
              "    <tr>\n",
              "      <th>oldbalanceOrg</th>\n",
              "      <td>6362620.0</td>\n",
              "      <td>8.338831e+05</td>\n",
              "      <td>2.888243e+06</td>\n",
              "      <td>0.0</td>\n",
              "      <td>0.00</td>\n",
              "      <td>14208.000</td>\n",
              "      <td>1.073152e+05</td>\n",
              "      <td>1822508.289</td>\n",
              "      <td>5.823702e+06</td>\n",
              "      <td>1.602726e+07</td>\n",
              "      <td>5.958504e+07</td>\n",
              "    </tr>\n",
              "    <tr>\n",
              "      <th>newbalanceOrig</th>\n",
              "      <td>6362620.0</td>\n",
              "      <td>8.551137e+05</td>\n",
              "      <td>2.924049e+06</td>\n",
              "      <td>0.0</td>\n",
              "      <td>0.00</td>\n",
              "      <td>0.000</td>\n",
              "      <td>1.442584e+05</td>\n",
              "      <td>1970344.793</td>\n",
              "      <td>5.980262e+06</td>\n",
              "      <td>1.617616e+07</td>\n",
              "      <td>4.958504e+07</td>\n",
              "    </tr>\n",
              "    <tr>\n",
              "      <th>oldbalanceDest</th>\n",
              "      <td>6362620.0</td>\n",
              "      <td>1.100702e+06</td>\n",
              "      <td>3.399180e+06</td>\n",
              "      <td>0.0</td>\n",
              "      <td>0.00</td>\n",
              "      <td>132705.665</td>\n",
              "      <td>9.430367e+05</td>\n",
              "      <td>2914266.669</td>\n",
              "      <td>5.147230e+06</td>\n",
              "      <td>1.237182e+07</td>\n",
              "      <td>3.560159e+08</td>\n",
              "    </tr>\n",
              "    <tr>\n",
              "      <th>newbalanceDest</th>\n",
              "      <td>6362620.0</td>\n",
              "      <td>1.224996e+06</td>\n",
              "      <td>3.674129e+06</td>\n",
              "      <td>0.0</td>\n",
              "      <td>0.00</td>\n",
              "      <td>214661.440</td>\n",
              "      <td>1.111909e+06</td>\n",
              "      <td>3194869.671</td>\n",
              "      <td>5.515716e+06</td>\n",
              "      <td>1.313787e+07</td>\n",
              "      <td>3.561793e+08</td>\n",
              "    </tr>\n",
              "    <tr>\n",
              "      <th>isFraud</th>\n",
              "      <td>6362620.0</td>\n",
              "      <td>1.290820e-03</td>\n",
              "      <td>3.590480e-02</td>\n",
              "      <td>0.0</td>\n",
              "      <td>0.00</td>\n",
              "      <td>0.000</td>\n",
              "      <td>0.000000e+00</td>\n",
              "      <td>0.000</td>\n",
              "      <td>0.000000e+00</td>\n",
              "      <td>0.000000e+00</td>\n",
              "      <td>1.000000e+00</td>\n",
              "    </tr>\n",
              "    <tr>\n",
              "      <th>isFlaggedFraud</th>\n",
              "      <td>6362620.0</td>\n",
              "      <td>2.514687e-06</td>\n",
              "      <td>1.585775e-03</td>\n",
              "      <td>0.0</td>\n",
              "      <td>0.00</td>\n",
              "      <td>0.000</td>\n",
              "      <td>0.000000e+00</td>\n",
              "      <td>0.000</td>\n",
              "      <td>0.000000e+00</td>\n",
              "      <td>0.000000e+00</td>\n",
              "      <td>1.000000e+00</td>\n",
              "    </tr>\n",
              "  </tbody>\n",
              "</table>\n",
              "</div>\n",
              "      <button class=\"colab-df-convert\" onclick=\"convertToInteractive('df-b7ed254a-7bde-462c-9bc5-612acd2953ad')\"\n",
              "              title=\"Convert this dataframe to an interactive table.\"\n",
              "              style=\"display:none;\">\n",
              "        \n",
              "  <svg xmlns=\"http://www.w3.org/2000/svg\" height=\"24px\"viewBox=\"0 0 24 24\"\n",
              "       width=\"24px\">\n",
              "    <path d=\"M0 0h24v24H0V0z\" fill=\"none\"/>\n",
              "    <path d=\"M18.56 5.44l.94 2.06.94-2.06 2.06-.94-2.06-.94-.94-2.06-.94 2.06-2.06.94zm-11 1L8.5 8.5l.94-2.06 2.06-.94-2.06-.94L8.5 2.5l-.94 2.06-2.06.94zm10 10l.94 2.06.94-2.06 2.06-.94-2.06-.94-.94-2.06-.94 2.06-2.06.94z\"/><path d=\"M17.41 7.96l-1.37-1.37c-.4-.4-.92-.59-1.43-.59-.52 0-1.04.2-1.43.59L10.3 9.45l-7.72 7.72c-.78.78-.78 2.05 0 2.83L4 21.41c.39.39.9.59 1.41.59.51 0 1.02-.2 1.41-.59l7.78-7.78 2.81-2.81c.8-.78.8-2.07 0-2.86zM5.41 20L4 18.59l7.72-7.72 1.47 1.35L5.41 20z\"/>\n",
              "  </svg>\n",
              "      </button>\n",
              "      \n",
              "  <style>\n",
              "    .colab-df-container {\n",
              "      display:flex;\n",
              "      flex-wrap:wrap;\n",
              "      gap: 12px;\n",
              "    }\n",
              "\n",
              "    .colab-df-convert {\n",
              "      background-color: #E8F0FE;\n",
              "      border: none;\n",
              "      border-radius: 50%;\n",
              "      cursor: pointer;\n",
              "      display: none;\n",
              "      fill: #1967D2;\n",
              "      height: 32px;\n",
              "      padding: 0 0 0 0;\n",
              "      width: 32px;\n",
              "    }\n",
              "\n",
              "    .colab-df-convert:hover {\n",
              "      background-color: #E2EBFA;\n",
              "      box-shadow: 0px 1px 2px rgba(60, 64, 67, 0.3), 0px 1px 3px 1px rgba(60, 64, 67, 0.15);\n",
              "      fill: #174EA6;\n",
              "    }\n",
              "\n",
              "    [theme=dark] .colab-df-convert {\n",
              "      background-color: #3B4455;\n",
              "      fill: #D2E3FC;\n",
              "    }\n",
              "\n",
              "    [theme=dark] .colab-df-convert:hover {\n",
              "      background-color: #434B5C;\n",
              "      box-shadow: 0px 1px 3px 1px rgba(0, 0, 0, 0.15);\n",
              "      filter: drop-shadow(0px 1px 2px rgba(0, 0, 0, 0.3));\n",
              "      fill: #FFFFFF;\n",
              "    }\n",
              "  </style>\n",
              "\n",
              "      <script>\n",
              "        const buttonEl =\n",
              "          document.querySelector('#df-b7ed254a-7bde-462c-9bc5-612acd2953ad button.colab-df-convert');\n",
              "        buttonEl.style.display =\n",
              "          google.colab.kernel.accessAllowed ? 'block' : 'none';\n",
              "\n",
              "        async function convertToInteractive(key) {\n",
              "          const element = document.querySelector('#df-b7ed254a-7bde-462c-9bc5-612acd2953ad');\n",
              "          const dataTable =\n",
              "            await google.colab.kernel.invokeFunction('convertToInteractive',\n",
              "                                                     [key], {});\n",
              "          if (!dataTable) return;\n",
              "\n",
              "          const docLinkHtml = 'Like what you see? Visit the ' +\n",
              "            '<a target=\"_blank\" href=https://colab.research.google.com/notebooks/data_table.ipynb>data table notebook</a>'\n",
              "            + ' to learn more about interactive tables.';\n",
              "          element.innerHTML = '';\n",
              "          dataTable['output_type'] = 'display_data';\n",
              "          await google.colab.output.renderOutput(dataTable, element);\n",
              "          const docLink = document.createElement('div');\n",
              "          docLink.innerHTML = docLinkHtml;\n",
              "          element.appendChild(docLink);\n",
              "        }\n",
              "      </script>\n",
              "    </div>\n",
              "  </div>\n",
              "  "
            ],
            "text/plain": [
              "                    count          mean  ...           99%           max\n",
              "step            6362620.0  2.433972e+02  ...  6.810000e+02  7.430000e+02\n",
              "amount          6362620.0  1.798619e+05  ...  1.615979e+06  9.244552e+07\n",
              "oldbalanceOrg   6362620.0  8.338831e+05  ...  1.602726e+07  5.958504e+07\n",
              "newbalanceOrig  6362620.0  8.551137e+05  ...  1.617616e+07  4.958504e+07\n",
              "oldbalanceDest  6362620.0  1.100702e+06  ...  1.237182e+07  3.560159e+08\n",
              "newbalanceDest  6362620.0  1.224996e+06  ...  1.313787e+07  3.561793e+08\n",
              "isFraud         6362620.0  1.290820e-03  ...  0.000000e+00  1.000000e+00\n",
              "isFlaggedFraud  6362620.0  2.514687e-06  ...  0.000000e+00  1.000000e+00\n",
              "\n",
              "[8 rows x 11 columns]"
            ]
          },
          "metadata": {},
          "execution_count": 60
        }
      ]
    },
    {
      "cell_type": "markdown",
      "source": [
        "### 2.2 Missing Values\n",
        "\n",
        "Get the info about missing values in the dataframe"
      ],
      "metadata": {
        "id": "qdxgPg-mWU9q"
      }
    },
    {
      "cell_type": "code",
      "source": [
        "# Missing values for every column\n",
        "df.isna().sum()"
      ],
      "metadata": {
        "colab": {
          "base_uri": "https://localhost:8080/"
        },
        "id": "OAYLX42HWVxk",
        "outputId": "90365dfe-a742-4001-dd89-9c83c98676ee"
      },
      "execution_count": null,
      "outputs": [
        {
          "output_type": "execute_result",
          "data": {
            "text/plain": [
              "step              0\n",
              "type              0\n",
              "amount            0\n",
              "nameOrig          0\n",
              "oldbalanceOrg     0\n",
              "newbalanceOrig    0\n",
              "nameDest          0\n",
              "oldbalanceDest    0\n",
              "newbalanceDest    0\n",
              "isFraud           0\n",
              "isFlaggedFraud    0\n",
              "dtype: int64"
            ]
          },
          "metadata": {},
          "execution_count": 61
        }
      ]
    },
    {
      "cell_type": "markdown",
      "source": [
        "# 3. Exploratory Data Analaysis\n",
        "\n",
        "Exploratory data analysis is an approach to analyze or investigate data sets to find out patterns and see if any of the variables can be useful in predicting the y variables. Visual methods are often used to summarise the data. Primarily EDA is for seeing what the data can tell us beyond the formal modeling or hypothesis testing tasks.\n",
        "\n",
        "In this section you will:\n",
        "- Create list of columns by data type\n",
        "- Check the distribution of target class\n",
        "- Check the distribution of every feature\n",
        "- Check how differnt numerical features are realated to target class"
      ],
      "metadata": {
        "id": "JtCts4R9WiUg"
      }
    },
    {
      "cell_type": "markdown",
      "source": [
        "### 3.1. Extract data types of columns\n",
        "\n",
        "It's better to get the list of columns by data types in the start itself. You won't have to manually write the name of columns while performing certain operations. So always get the list of columns in the start itself."
      ],
      "metadata": {
        "id": "b8tKINDMW9Nk"
      }
    },
    {
      "cell_type": "code",
      "source": [
        "df.dtypes"
      ],
      "metadata": {
        "colab": {
          "base_uri": "https://localhost:8080/"
        },
        "id": "0ysZeatIn4oQ",
        "outputId": "9474a1a1-03d2-4e20-b659-7594d8f8326a"
      },
      "execution_count": null,
      "outputs": [
        {
          "output_type": "execute_result",
          "data": {
            "text/plain": [
              "step                int64\n",
              "type               object\n",
              "amount            float64\n",
              "nameOrig           object\n",
              "oldbalanceOrg     float64\n",
              "newbalanceOrig    float64\n",
              "nameDest           object\n",
              "oldbalanceDest    float64\n",
              "newbalanceDest    float64\n",
              "isFraud             int64\n",
              "isFlaggedFraud      int64\n",
              "dtype: object"
            ]
          },
          "metadata": {},
          "execution_count": 62
        }
      ]
    },
    {
      "cell_type": "code",
      "source": [
        "# Remove unnecessary columns\n",
        "df = df.drop(columns = ['nameOrig','nameDest'], axis = 1)"
      ],
      "metadata": {
        "id": "qG3mjIA3W99C"
      },
      "execution_count": null,
      "outputs": []
    },
    {
      "cell_type": "markdown",
      "source": [
        "###3.2.Check the distribution of target class"
      ],
      "metadata": {
        "id": "JijB-Wk8WGa5"
      }
    },
    {
      "cell_type": "code",
      "source": [
        "# Check distribution of target class\n",
        "sns.countplot(y=df['isFraud'] ,data=df)\n",
        "plt.xlabel(\"Count of each Target class\")\n",
        "plt.ylabel(\"Target classes\")\n",
        "plt.show()"
      ],
      "metadata": {
        "colab": {
          "base_uri": "https://localhost:8080/",
          "height": 279
        },
        "id": "yWW2afheWLNN",
        "outputId": "dcbe3618-deae-43bc-cbd1-f8f8e343c523"
      },
      "execution_count": null,
      "outputs": [
        {
          "output_type": "display_data",
          "data": {
            "image/png": "[encoded data removed]",
            "text/plain": [
              "<Figure size 432x288 with 1 Axes>"
            ]
          },
          "metadata": {
            "needs_background": "light"
          }
        }
      ]
    },
    {
      "cell_type": "markdown",
      "source": [
        "### 3.3. Check the distribution of every feature"
      ],
      "metadata": {
        "id": "eWjoICRcm2jm"
      }
    },
    {
      "cell_type": "code",
      "source": [
        "# Check the distribution of all the features\n",
        "df.hist(figsize=(15,12),bins = 15)\n",
        "plt.title(\"Features Distribution\")\n",
        "plt.show()"
      ],
      "metadata": {
        "colab": {
          "base_uri": "https://localhost:8080/",
          "height": 716
        },
        "id": "g2T5F02vm2A4",
        "outputId": "7eaf3d64-4567-424a-a396-165090ba5665"
      },
      "execution_count": null,
      "outputs": [
        {
          "output_type": "display_data",
          "data": {
            "image/png": "[encoded data removed]",
            "text/plain": [
              "<Figure size 1080x864 with 9 Axes>"
            ]
          },
          "metadata": {
            "needs_background": "light"
          }
        }
      ]
    },
    {
      "cell_type": "markdown",
      "source": [
        "##3.4.Checking the correlation"
      ],
      "metadata": {
        "id": "uSi_Q8e_FBx6"
      }
    },
    {
      "cell_type": "code",
      "source": [
        "df.corr()"
      ],
      "metadata": {
        "colab": {
          "base_uri": "https://localhost:8080/",
          "height": 344
        },
        "id": "NZH9471dF0Dn",
        "outputId": "8c945fd9-6191-44d6-9e76-27958c851897"
      },
      "execution_count": null,
      "outputs": [
        {
          "output_type": "execute_result",
          "data": {
            "text/html": [
              "\n",
              "  <div id=\"df-b1cc867c-8d50-414c-95ee-764c47d622de\">\n",
              "    <div class=\"colab-df-container\">\n",
              "      <div>\n",
              "<style scoped>\n",
              "    .dataframe tbody tr th:only-of-type {\n",
              "        vertical-align: middle;\n",
              "    }\n",
              "\n",
              "    .dataframe tbody tr th {\n",
              "        vertical-align: top;\n",
              "    }\n",
              "\n",
              "    .dataframe thead th {\n",
              "        text-align: right;\n",
              "    }\n",
              "</style>\n",
              "<table border=\"1\" class=\"dataframe\">\n",
              "  <thead>\n",
              "    <tr style=\"text-align: right;\">\n",
              "      <th></th>\n",
              "      <th>step</th>\n",
              "      <th>amount</th>\n",
              "      <th>oldbalanceOrg</th>\n",
              "      <th>newbalanceOrig</th>\n",
              "      <th>oldbalanceDest</th>\n",
              "      <th>newbalanceDest</th>\n",
              "      <th>isFraud</th>\n",
              "      <th>isFlaggedFraud</th>\n",
              "    </tr>\n",
              "  </thead>\n",
              "  <tbody>\n",
              "    <tr>\n",
              "      <th>step</th>\n",
              "      <td>1.000000</td>\n",
              "      <td>0.022373</td>\n",
              "      <td>-0.010058</td>\n",
              "      <td>-0.010299</td>\n",
              "      <td>0.027665</td>\n",
              "      <td>0.025888</td>\n",
              "      <td>0.031578</td>\n",
              "      <td>0.003277</td>\n",
              "    </tr>\n",
              "    <tr>\n",
              "      <th>amount</th>\n",
              "      <td>0.022373</td>\n",
              "      <td>1.000000</td>\n",
              "      <td>-0.002762</td>\n",
              "      <td>-0.007861</td>\n",
              "      <td>0.294137</td>\n",
              "      <td>0.459304</td>\n",
              "      <td>0.076688</td>\n",
              "      <td>0.012295</td>\n",
              "    </tr>\n",
              "    <tr>\n",
              "      <th>oldbalanceOrg</th>\n",
              "      <td>-0.010058</td>\n",
              "      <td>-0.002762</td>\n",
              "      <td>1.000000</td>\n",
              "      <td>0.998803</td>\n",
              "      <td>0.066243</td>\n",
              "      <td>0.042029</td>\n",
              "      <td>0.010154</td>\n",
              "      <td>0.003835</td>\n",
              "    </tr>\n",
              "    <tr>\n",
              "      <th>newbalanceOrig</th>\n",
              "      <td>-0.010299</td>\n",
              "      <td>-0.007861</td>\n",
              "      <td>0.998803</td>\n",
              "      <td>1.000000</td>\n",
              "      <td>0.067812</td>\n",
              "      <td>0.041837</td>\n",
              "      <td>-0.008148</td>\n",
              "      <td>0.003776</td>\n",
              "    </tr>\n",
              "    <tr>\n",
              "      <th>oldbalanceDest</th>\n",
              "      <td>0.027665</td>\n",
              "      <td>0.294137</td>\n",
              "      <td>0.066243</td>\n",
              "      <td>0.067812</td>\n",
              "      <td>1.000000</td>\n",
              "      <td>0.976569</td>\n",
              "      <td>-0.005885</td>\n",
              "      <td>-0.000513</td>\n",
              "    </tr>\n",
              "    <tr>\n",
              "      <th>newbalanceDest</th>\n",
              "      <td>0.025888</td>\n",
              "      <td>0.459304</td>\n",
              "      <td>0.042029</td>\n",
              "      <td>0.041837</td>\n",
              "      <td>0.976569</td>\n",
              "      <td>1.000000</td>\n",
              "      <td>0.000535</td>\n",
              "      <td>-0.000529</td>\n",
              "    </tr>\n",
              "    <tr>\n",
              "      <th>isFraud</th>\n",
              "      <td>0.031578</td>\n",
              "      <td>0.076688</td>\n",
              "      <td>0.010154</td>\n",
              "      <td>-0.008148</td>\n",
              "      <td>-0.005885</td>\n",
              "      <td>0.000535</td>\n",
              "      <td>1.000000</td>\n",
              "      <td>0.044109</td>\n",
              "    </tr>\n",
              "    <tr>\n",
              "      <th>isFlaggedFraud</th>\n",
              "      <td>0.003277</td>\n",
              "      <td>0.012295</td>\n",
              "      <td>0.003835</td>\n",
              "      <td>0.003776</td>\n",
              "      <td>-0.000513</td>\n",
              "      <td>-0.000529</td>\n",
              "      <td>0.044109</td>\n",
              "      <td>1.000000</td>\n",
              "    </tr>\n",
              "  </tbody>\n",
              "</table>\n",
              "</div>\n",
              "      <button class=\"colab-df-convert\" onclick=\"convertToInteractive('df-b1cc867c-8d50-414c-95ee-764c47d622de')\"\n",
              "              title=\"Convert this dataframe to an interactive table.\"\n",
              "              style=\"display:none;\">\n",
              "        \n",
              "  <svg xmlns=\"http://www.w3.org/2000/svg\" height=\"24px\"viewBox=\"0 0 24 24\"\n",
              "       width=\"24px\">\n",
              "    <path d=\"M0 0h24v24H0V0z\" fill=\"none\"/>\n",
              "    <path d=\"M18.56 5.44l.94 2.06.94-2.06 2.06-.94-2.06-.94-.94-2.06-.94 2.06-2.06.94zm-11 1L8.5 8.5l.94-2.06 2.06-.94-2.06-.94L8.5 2.5l-.94 2.06-2.06.94zm10 10l.94 2.06.94-2.06 2.06-.94-2.06-.94-.94-2.06-.94 2.06-2.06.94z\"/><path d=\"M17.41 7.96l-1.37-1.37c-.4-.4-.92-.59-1.43-.59-.52 0-1.04.2-1.43.59L10.3 9.45l-7.72 7.72c-.78.78-.78 2.05 0 2.83L4 21.41c.39.39.9.59 1.41.59.51 0 1.02-.2 1.41-.59l7.78-7.78 2.81-2.81c.8-.78.8-2.07 0-2.86zM5.41 20L4 18.59l7.72-7.72 1.47 1.35L5.41 20z\"/>\n",
              "  </svg>\n",
              "      </button>\n",
              "      \n",
              "  <style>\n",
              "    .colab-df-container {\n",
              "      display:flex;\n",
              "      flex-wrap:wrap;\n",
              "      gap: 12px;\n",
              "    }\n",
              "\n",
              "    .colab-df-convert {\n",
              "      background-color: #E8F0FE;\n",
              "      border: none;\n",
              "      border-radius: 50%;\n",
              "      cursor: pointer;\n",
              "      display: none;\n",
              "      fill: #1967D2;\n",
              "      height: 32px;\n",
              "      padding: 0 0 0 0;\n",
              "      width: 32px;\n",
              "    }\n",
              "\n",
              "    .colab-df-convert:hover {\n",
              "      background-color: #E2EBFA;\n",
              "      box-shadow: 0px 1px 2px rgba(60, 64, 67, 0.3), 0px 1px 3px 1px rgba(60, 64, 67, 0.15);\n",
              "      fill: #174EA6;\n",
              "    }\n",
              "\n",
              "    [theme=dark] .colab-df-convert {\n",
              "      background-color: #3B4455;\n",
              "      fill: #D2E3FC;\n",
              "    }\n",
              "\n",
              "    [theme=dark] .colab-df-convert:hover {\n",
              "      background-color: #434B5C;\n",
              "      box-shadow: 0px 1px 3px 1px rgba(0, 0, 0, 0.15);\n",
              "      filter: drop-shadow(0px 1px 2px rgba(0, 0, 0, 0.3));\n",
              "      fill: #FFFFFF;\n",
              "    }\n",
              "  </style>\n",
              "\n",
              "      <script>\n",
              "        const buttonEl =\n",
              "          document.querySelector('#df-b1cc867c-8d50-414c-95ee-764c47d622de button.colab-df-convert');\n",
              "        buttonEl.style.display =\n",
              "          google.colab.kernel.accessAllowed ? 'block' : 'none';\n",
              "\n",
              "        async function convertToInteractive(key) {\n",
              "          const element = document.querySelector('#df-b1cc867c-8d50-414c-95ee-764c47d622de');\n",
              "          const dataTable =\n",
              "            await google.colab.kernel.invokeFunction('convertToInteractive',\n",
              "                                                     [key], {});\n",
              "          if (!dataTable) return;\n",
              "\n",
              "          const docLinkHtml = 'Like what you see? Visit the ' +\n",
              "            '<a target=\"_blank\" href=https://colab.research.google.com/notebooks/data_table.ipynb>data table notebook</a>'\n",
              "            + ' to learn more about interactive tables.';\n",
              "          element.innerHTML = '';\n",
              "          dataTable['output_type'] = 'display_data';\n",
              "          await google.colab.output.renderOutput(dataTable, element);\n",
              "          const docLink = document.createElement('div');\n",
              "          docLink.innerHTML = docLinkHtml;\n",
              "          element.appendChild(docLink);\n",
              "        }\n",
              "      </script>\n",
              "    </div>\n",
              "  </div>\n",
              "  "
            ],
            "text/plain": [
              "                    step    amount  ...   isFraud  isFlaggedFraud\n",
              "step            1.000000  0.022373  ...  0.031578        0.003277\n",
              "amount          0.022373  1.000000  ...  0.076688        0.012295\n",
              "oldbalanceOrg  -0.010058 -0.002762  ...  0.010154        0.003835\n",
              "newbalanceOrig -0.010299 -0.007861  ... -0.008148        0.003776\n",
              "oldbalanceDest  0.027665  0.294137  ... -0.005885       -0.000513\n",
              "newbalanceDest  0.025888  0.459304  ...  0.000535       -0.000529\n",
              "isFraud         0.031578  0.076688  ...  1.000000        0.044109\n",
              "isFlaggedFraud  0.003277  0.012295  ...  0.044109        1.000000\n",
              "\n",
              "[8 rows x 8 columns]"
            ]
          },
          "metadata": {},
          "execution_count": 113
        }
      ]
    },
    {
      "cell_type": "markdown",
      "source": [
        "##4. Data Preparation\n",
        "\n",
        "The data is not yet ready for model building. You need to process the data and make it ready for model building\n",
        "\n",
        "In this section you will:\n",
        "- Clean the data\n",
        "- Categorize the \"isFraud\"\n",
        "- Split the dataset in X and y dataset\n",
        "- Resampling using Smote\n",
        "- Split the data in train and test set"
      ],
      "metadata": {
        "id": "8yRs0XORZjGS"
      }
    },
    {
      "cell_type": "markdown",
      "source": [
        "### Categorize the \"isFraud\""
      ],
      "metadata": {
        "id": "2lBRhCBQapu4"
      }
    },
    {
      "cell_type": "code",
      "source": [
        "\n",
        "categorizing_isFraud=df['isFraud'].value_counts()\n",
        "print(categorizing_isFraud)\n",
        "\n",
        "notFraud  = df[df['isFraud'] == 0]\n",
        "print(notFraud.head())\n",
        "fraud = df[df['isFraud']==1]\n",
        "print(fraud.head())\n"
      ],
      "metadata": {
        "colab": {
          "base_uri": "https://localhost:8080/"
        },
        "id": "aYVik19mG0L1",
        "outputId": "a696b38d-926a-4b40-9451-b1cd3dd44157"
      },
      "execution_count": null,
      "outputs": [
        {
          "output_type": "stream",
          "name": "stdout",
          "text": [
            "0    6354407\n",
            "1       8213\n",
            "Name: isFraud, dtype: int64\n",
            "   step     type    amount  ...  newbalanceDest  isFraud  isFlaggedFraud\n",
            "0     1  PAYMENT   9839.64  ...             0.0        0               0\n",
            "1     1  PAYMENT   1864.28  ...             0.0        0               0\n",
            "4     1  PAYMENT  11668.14  ...             0.0        0               0\n",
            "5     1  PAYMENT   7817.71  ...             0.0        0               0\n",
            "6     1  PAYMENT   7107.77  ...             0.0        0               0\n",
            "\n",
            "[5 rows x 9 columns]\n",
            "     step      type   amount  ...  newbalanceDest  isFraud  isFlaggedFraud\n",
            "2       1  TRANSFER    181.0  ...             0.0        1               0\n",
            "3       1  CASH_OUT    181.0  ...             0.0        1               0\n",
            "251     1  TRANSFER   2806.0  ...             0.0        1               0\n",
            "252     1  CASH_OUT   2806.0  ...             0.0        1               0\n",
            "680     1  TRANSFER  20128.0  ...             0.0        1               0\n",
            "\n",
            "[5 rows x 9 columns]\n"
          ]
        }
      ]
    },
    {
      "cell_type": "markdown",
      "source": [
        "## Split X and Y"
      ],
      "metadata": {
        "id": "CUul4v82KT3I"
      }
    },
    {
      "cell_type": "code",
      "source": [
        "X = df.iloc[:,[0,2,3,4,5,6]]\n",
        "Y = df.iloc[:,-2]\n",
        "\n"
      ],
      "metadata": {
        "id": "3okYRIKmG1J-"
      },
      "execution_count": null,
      "outputs": []
    },
    {
      "cell_type": "markdown",
      "source": [
        "## Train Test Split"
      ],
      "metadata": {
        "id": "8jZhiBsOKcKW"
      }
    },
    {
      "cell_type": "code",
      "source": [
        "# spliting data into 80:20\n",
        "\n",
        "X_train,X_test,Y_train,Y_test=train_test_split(X, Y, train_size=0.8,  random_state=100)\n"
      ],
      "metadata": {
        "id": "EynNSutQHnJR"
      },
      "execution_count": null,
      "outputs": []
    },
    {
      "cell_type": "code",
      "execution_count": null,
      "metadata": {
        "id": "lywtlTI38x5E",
        "outputId": "834bb3bb-9a1c-415a-afe8-0a6f70a74c58",
        "colab": {
          "base_uri": "https://localhost:8080/"
        }
      },
      "outputs": [
        {
          "output_type": "execute_result",
          "data": {
            "text/plain": [
              "((5090096, 6), (5090096,))"
            ]
          },
          "metadata": {},
          "execution_count": 69
        }
      ],
      "source": [
        "X_train.shape,Y_train.shape"
      ]
    },
    {
      "cell_type": "code",
      "execution_count": null,
      "metadata": {
        "id": "8rLSB44E8x5H",
        "outputId": "82aff7fa-0683-4f36-da27-d9faeb183f7b",
        "colab": {
          "base_uri": "https://localhost:8080/"
        }
      },
      "outputs": [
        {
          "output_type": "execute_result",
          "data": {
            "text/plain": [
              "0    5083512\n",
              "1       6584\n",
              "Name: isFraud, dtype: int64"
            ]
          },
          "metadata": {},
          "execution_count": 70
        }
      ],
      "source": [
        "Y_train.value_counts()"
      ]
    },
    {
      "cell_type": "code",
      "execution_count": null,
      "metadata": {
        "id": "LqfKI30p8x5I",
        "outputId": "20630aac-acfc-4e69-c775-c15103acc7a8",
        "colab": {
          "base_uri": "https://localhost:8080/"
        }
      },
      "outputs": [
        {
          "output_type": "execute_result",
          "data": {
            "text/plain": [
              "((1272524, 6), (1272524,))"
            ]
          },
          "metadata": {},
          "execution_count": 71
        }
      ],
      "source": [
        "X_test.shape,Y_test.shape"
      ]
    },
    {
      "cell_type": "code",
      "execution_count": null,
      "metadata": {
        "id": "Uo-512Sp8x5K",
        "outputId": "e5967f95-f2a7-4cfd-bdfb-be03e2c4668d",
        "colab": {
          "base_uri": "https://localhost:8080/"
        }
      },
      "outputs": [
        {
          "output_type": "execute_result",
          "data": {
            "text/plain": [
              "0    1270895\n",
              "1       1629\n",
              "Name: isFraud, dtype: int64"
            ]
          },
          "metadata": {},
          "execution_count": 72
        }
      ],
      "source": [
        "Y_test.value_counts()"
      ]
    },
    {
      "cell_type": "markdown",
      "source": [
        "# SMOTE"
      ],
      "metadata": {
        "id": "hrQDVsPIO5OQ"
      }
    },
    {
      "cell_type": "code",
      "execution_count": null,
      "metadata": {
        "id": "_ASjT-0L8x5L",
        "outputId": "e4a92043-88fe-4b91-9dfc-79411e9d2f7e",
        "colab": {
          "base_uri": "https://localhost:8080/"
        }
      },
      "outputs": [
        {
          "output_type": "execute_result",
          "data": {
            "text/plain": [
              "1    5083512\n",
              "0    5083512\n",
              "Name: isFraud, dtype: int64"
            ]
          },
          "metadata": {},
          "execution_count": 73
        }
      ],
      "source": [
        "smt = SMOTE(k_neighbors=1)\n",
        "X_train_sm, Y_train_sm = smt.fit_resample(X_train, Y_train)\n",
        "Y_train_sm.value_counts()"
      ]
    },
    {
      "cell_type": "code",
      "execution_count": null,
      "metadata": {
        "id": "Ff5KfmOm8x5M",
        "outputId": "b47473cc-f61a-48e4-fc7c-d89ca6738194",
        "colab": {
          "base_uri": "https://localhost:8080/"
        }
      },
      "outputs": [
        {
          "output_type": "execute_result",
          "data": {
            "text/plain": [
              "1    1270895\n",
              "0    1270895\n",
              "Name: isFraud, dtype: int64"
            ]
          },
          "metadata": {},
          "execution_count": 74
        }
      ],
      "source": [
        "smt = SMOTE(k_neighbors=1)\n",
        "X_test_sm, Y_test_sm = smt.fit_resample(X_test, Y_test)\n",
        "Y_test_sm.value_counts()"
      ]
    },
    {
      "cell_type": "markdown",
      "source": [
        "##5,Model building\n",
        "##1.training different models \n",
        "##2.model predictions\n",
        "##3.model evaluations"
      ],
      "metadata": {
        "id": "LNauTcaAa7SJ"
      }
    },
    {
      "cell_type": "markdown",
      "source": [
        "### Linear Regression"
      ],
      "metadata": {
        "id": "4TY1OxvzCAw0"
      }
    },
    {
      "cell_type": "code",
      "source": [
        "from sklearn.linear_model import LinearRegression\n",
        "Mreg = LinearRegression().fit(X,Y)\n",
        "Mreg"
      ],
      "metadata": {
        "colab": {
          "base_uri": "https://localhost:8080/"
        },
        "id": "xzsGeWuB7ErJ",
        "outputId": "91473148-2b32-40ab-c20e-38b97c539042"
      },
      "execution_count": null,
      "outputs": [
        {
          "output_type": "execute_result",
          "data": {
            "text/plain": [
              "LinearRegression()"
            ]
          },
          "metadata": {},
          "execution_count": 75
        }
      ]
    },
    {
      "cell_type": "code",
      "source": [
        "r_sq = Mreg.score(X,Y)\n",
        "print('coeffieicent of determination:', r_sq)"
      ],
      "metadata": {
        "colab": {
          "base_uri": "https://localhost:8080/"
        },
        "id": "7r1h5gxN7pDc",
        "outputId": "e99c2192-e5e0-4be5-d89d-6e6cc44295be"
      },
      "execution_count": null,
      "outputs": [
        {
          "output_type": "stream",
          "name": "stdout",
          "text": [
            "coeffieicent of determination: 0.15577260559543338\n"
          ]
        }
      ]
    },
    {
      "cell_type": "markdown",
      "source": [
        "# Logistic Regression"
      ],
      "metadata": {
        "id": "gG_raqd5Qy_X"
      }
    },
    {
      "cell_type": "code",
      "execution_count": null,
      "metadata": {
        "id": "oYUqF48P8x5N",
        "outputId": "19533a5f-bc3f-4bfe-ba4f-a7b6903a311b",
        "colab": {
          "base_uri": "https://localhost:8080/"
        }
      },
      "outputs": [
        {
          "output_type": "stream",
          "name": "stdout",
          "text": [
            "LogisticRegression()\n",
            "model score:: 0.9982513099949392\n",
            "[[1.00000000e+000 1.58375181e-132]\n",
            " [1.00000000e+000 1.35808777e-075]\n",
            " [1.00000000e+000 1.77496095e-141]\n",
            " ...\n",
            " [9.99325506e-001 6.74493725e-004]\n",
            " [9.99999269e-001 7.31258051e-007]\n",
            " [9.84339321e-001 1.56606786e-002]]\n",
            "****************************************************************************************************\n",
            "Confusion Matrix\n",
            "[[1269584    1311]\n",
            " [    925     704]]\n"
          ]
        }
      ],
      "source": [
        "from sklearn import preprocessing\n",
        "from sklearn import utils\n",
        "#from sklearn.metrics import accuracy_score \n",
        "import sklearn.metrics as metrics\n",
        "model = LogisticRegression()\n",
        "print(model)\n",
        "\n",
        "model = model.fit(X_train,Y_train )\n",
        "ms = model.score(X_train,Y_train)\n",
        "print(\"model score::\",ms)\n",
        "\n",
        "probability = model.predict_proba(X_test)\n",
        "print(probability)\n",
        "print(\"*\" * 100)\n",
        "print(\"Confusion Matrix\")\n",
        "predicted = model.predict(X_test)\n",
        "print(metrics.confusion_matrix(Y_test , predicted))"
      ]
    },
    {
      "cell_type": "code",
      "execution_count": null,
      "metadata": {
        "id": "4CZ_fCL-8x5Q",
        "outputId": "a35c210b-482a-46b6-e159-5267f69cd668",
        "colab": {
          "base_uri": "https://localhost:8080/"
        }
      },
      "outputs": [
        {
          "output_type": "stream",
          "name": "stdout",
          "text": [
            "              precision    recall  f1-score   support\n",
            "\n",
            "           0       1.00      1.00      1.00   1270895\n",
            "           1       0.35      0.43      0.39      1629\n",
            "\n",
            "    accuracy                           1.00   1272524\n",
            "   macro avg       0.67      0.72      0.69   1272524\n",
            "weighted avg       1.00      1.00      1.00   1272524\n",
            "\n"
          ]
        }
      ],
      "source": [
        "print(metrics.classification_report(Y_test, predicted))"
      ]
    },
    {
      "cell_type": "markdown",
      "source": [
        "## Heatmap of Confusion Matrix"
      ],
      "metadata": {
        "id": "O_q_oMrKSaOo"
      }
    },
    {
      "cell_type": "code",
      "execution_count": null,
      "metadata": {
        "id": "JWbAXNE08x5T",
        "outputId": "a79bb1c9-aa40-4ef6-fbc9-a83c58413aa4",
        "colab": {
          "base_uri": "https://localhost:8080/",
          "height": 320
        }
      },
      "outputs": [
        {
          "output_type": "display_data",
          "data": {
            "image/png": "[encoded data removed]",
            "text/plain": [
              "<Figure size 360x360 with 2 Axes>"
            ]
          },
          "metadata": {
            "needs_background": "light"
          }
        }
      ],
      "source": [
        "import seaborn as sns\n",
        "cm = metrics.confusion_matrix(Y_test , predicted)\n",
        "plt.figure(figsize=(5,5))\n",
        "sns.heatmap(cm, annot=True, fmt=\".0f\", linewidths=.8, square = True, cmap = 'Greens_r');\n",
        "plt.ylabel('Actual label');\n",
        "plt.xlabel('Predicted label');\n",
        "\n",
        "all_sample_title = 'Accuracy Score:{:0.3f}'.format(ms)\n",
        "plt.title(all_sample_title, size = 15);"
      ]
    },
    {
      "cell_type": "markdown",
      "source": [
        "# ROC Curve"
      ],
      "metadata": {
        "id": "KpTTgJwNSrJp"
      }
    },
    {
      "cell_type": "code",
      "execution_count": null,
      "metadata": {
        "id": "8gTRSpgH8x5U",
        "outputId": "3d950366-8b10-4e8b-e843-a9fcc34f153f",
        "colab": {
          "base_uri": "https://localhost:8080/",
          "height": 296
        }
      },
      "outputs": [
        {
          "output_type": "stream",
          "name": "stdout",
          "text": [
            "0.8852267442187771\n"
          ]
        },
        {
          "output_type": "display_data",
          "data": {
            "image/png": "[encoded data removed]",
            "text/plain": [
              "<Figure size 432x288 with 1 Axes>"
            ]
          },
          "metadata": {
            "needs_background": "light"
          }
        }
      ],
      "source": [
        "from sklearn import metrics\n",
        "preds = model.predict_proba(X_test)[:,1]\n",
        "fpr, tpr, _ = metrics.roc_curve(Y_test, preds)\n",
        "auc = metrics.auc(fpr,tpr)\n",
        "print(auc)\n",
        "plt.figure()\n",
        "fpr\n",
        "lw = 2\n",
        "plt.plot(fpr, tpr, color='darkorange', lw=lw, label='ROC curve (area = %0.2f)' % auc)\n",
        "plt.plot([0, 1], [0, 1], color='navy', lw=lw, linestyle='--')\n",
        "plt.xlim([0.0, 1.0])\n",
        "plt.ylim([0.0, 1.05])\n",
        "plt.xlabel('False Positive Rate')\n",
        "plt.ylabel('True Positive Rate')\n",
        "plt.legend(loc=\"lower right\")\n",
        "plt.show()"
      ]
    },
    {
      "cell_type": "markdown",
      "source": [
        "#6.Improvising the model"
      ],
      "metadata": {
        "id": "xZXu3Zgfbbfu"
      }
    },
    {
      "cell_type": "markdown",
      "source": [
        "## Sampling according to 'Fraud'"
      ],
      "metadata": {
        "id": "EEU9azzpVNYM"
      }
    },
    {
      "cell_type": "code",
      "execution_count": null,
      "metadata": {
        "id": "C89P6B8u8x5V",
        "outputId": "122b243d-4f9d-4765-9ed2-77833cf34722",
        "colab": {
          "base_uri": "https://localhost:8080/",
          "height": 206
        }
      },
      "outputs": [
        {
          "output_type": "execute_result",
          "data": {
            "text/html": [
              "\n",
              "  <div id=\"df-4acf6d80-6e2c-4ed5-a31b-b04767ba6d3b\">\n",
              "    <div class=\"colab-df-container\">\n",
              "      <div>\n",
              "<style scoped>\n",
              "    .dataframe tbody tr th:only-of-type {\n",
              "        vertical-align: middle;\n",
              "    }\n",
              "\n",
              "    .dataframe tbody tr th {\n",
              "        vertical-align: top;\n",
              "    }\n",
              "\n",
              "    .dataframe thead th {\n",
              "        text-align: right;\n",
              "    }\n",
              "</style>\n",
              "<table border=\"1\" class=\"dataframe\">\n",
              "  <thead>\n",
              "    <tr style=\"text-align: right;\">\n",
              "      <th></th>\n",
              "      <th>step</th>\n",
              "      <th>type</th>\n",
              "      <th>amount</th>\n",
              "      <th>oldbalanceOrg</th>\n",
              "      <th>newbalanceOrig</th>\n",
              "      <th>oldbalanceDest</th>\n",
              "      <th>newbalanceDest</th>\n",
              "      <th>isFraud</th>\n",
              "      <th>isFlaggedFraud</th>\n",
              "    </tr>\n",
              "  </thead>\n",
              "  <tbody>\n",
              "    <tr>\n",
              "      <th>2</th>\n",
              "      <td>1</td>\n",
              "      <td>TRANSFER</td>\n",
              "      <td>181.0</td>\n",
              "      <td>181.0</td>\n",
              "      <td>0.0</td>\n",
              "      <td>0.0</td>\n",
              "      <td>0.0</td>\n",
              "      <td>1</td>\n",
              "      <td>0</td>\n",
              "    </tr>\n",
              "    <tr>\n",
              "      <th>3</th>\n",
              "      <td>1</td>\n",
              "      <td>CASH_OUT</td>\n",
              "      <td>181.0</td>\n",
              "      <td>181.0</td>\n",
              "      <td>0.0</td>\n",
              "      <td>21182.0</td>\n",
              "      <td>0.0</td>\n",
              "      <td>1</td>\n",
              "      <td>0</td>\n",
              "    </tr>\n",
              "    <tr>\n",
              "      <th>251</th>\n",
              "      <td>1</td>\n",
              "      <td>TRANSFER</td>\n",
              "      <td>2806.0</td>\n",
              "      <td>2806.0</td>\n",
              "      <td>0.0</td>\n",
              "      <td>0.0</td>\n",
              "      <td>0.0</td>\n",
              "      <td>1</td>\n",
              "      <td>0</td>\n",
              "    </tr>\n",
              "    <tr>\n",
              "      <th>252</th>\n",
              "      <td>1</td>\n",
              "      <td>CASH_OUT</td>\n",
              "      <td>2806.0</td>\n",
              "      <td>2806.0</td>\n",
              "      <td>0.0</td>\n",
              "      <td>26202.0</td>\n",
              "      <td>0.0</td>\n",
              "      <td>1</td>\n",
              "      <td>0</td>\n",
              "    </tr>\n",
              "    <tr>\n",
              "      <th>680</th>\n",
              "      <td>1</td>\n",
              "      <td>TRANSFER</td>\n",
              "      <td>20128.0</td>\n",
              "      <td>20128.0</td>\n",
              "      <td>0.0</td>\n",
              "      <td>0.0</td>\n",
              "      <td>0.0</td>\n",
              "      <td>1</td>\n",
              "      <td>0</td>\n",
              "    </tr>\n",
              "  </tbody>\n",
              "</table>\n",
              "</div>\n",
              "      <button class=\"colab-df-convert\" onclick=\"convertToInteractive('df-4acf6d80-6e2c-4ed5-a31b-b04767ba6d3b')\"\n",
              "              title=\"Convert this dataframe to an interactive table.\"\n",
              "              style=\"display:none;\">\n",
              "        \n",
              "  <svg xmlns=\"http://www.w3.org/2000/svg\" height=\"24px\"viewBox=\"0 0 24 24\"\n",
              "       width=\"24px\">\n",
              "    <path d=\"M0 0h24v24H0V0z\" fill=\"none\"/>\n",
              "    <path d=\"M18.56 5.44l.94 2.06.94-2.06 2.06-.94-2.06-.94-.94-2.06-.94 2.06-2.06.94zm-11 1L8.5 8.5l.94-2.06 2.06-.94-2.06-.94L8.5 2.5l-.94 2.06-2.06.94zm10 10l.94 2.06.94-2.06 2.06-.94-2.06-.94-.94-2.06-.94 2.06-2.06.94z\"/><path d=\"M17.41 7.96l-1.37-1.37c-.4-.4-.92-.59-1.43-.59-.52 0-1.04.2-1.43.59L10.3 9.45l-7.72 7.72c-.78.78-.78 2.05 0 2.83L4 21.41c.39.39.9.59 1.41.59.51 0 1.02-.2 1.41-.59l7.78-7.78 2.81-2.81c.8-.78.8-2.07 0-2.86zM5.41 20L4 18.59l7.72-7.72 1.47 1.35L5.41 20z\"/>\n",
              "  </svg>\n",
              "      </button>\n",
              "      \n",
              "  <style>\n",
              "    .colab-df-container {\n",
              "      display:flex;\n",
              "      flex-wrap:wrap;\n",
              "      gap: 12px;\n",
              "    }\n",
              "\n",
              "    .colab-df-convert {\n",
              "      background-color: #E8F0FE;\n",
              "      border: none;\n",
              "      border-radius: 50%;\n",
              "      cursor: pointer;\n",
              "      display: none;\n",
              "      fill: #1967D2;\n",
              "      height: 32px;\n",
              "      padding: 0 0 0 0;\n",
              "      width: 32px;\n",
              "    }\n",
              "\n",
              "    .colab-df-convert:hover {\n",
              "      background-color: #E2EBFA;\n",
              "      box-shadow: 0px 1px 2px rgba(60, 64, 67, 0.3), 0px 1px 3px 1px rgba(60, 64, 67, 0.15);\n",
              "      fill: #174EA6;\n",
              "    }\n",
              "\n",
              "    [theme=dark] .colab-df-convert {\n",
              "      background-color: #3B4455;\n",
              "      fill: #D2E3FC;\n",
              "    }\n",
              "\n",
              "    [theme=dark] .colab-df-convert:hover {\n",
              "      background-color: #434B5C;\n",
              "      box-shadow: 0px 1px 3px 1px rgba(0, 0, 0, 0.15);\n",
              "      filter: drop-shadow(0px 1px 2px rgba(0, 0, 0, 0.3));\n",
              "      fill: #FFFFFF;\n",
              "    }\n",
              "  </style>\n",
              "\n",
              "      <script>\n",
              "        const buttonEl =\n",
              "          document.querySelector('#df-4acf6d80-6e2c-4ed5-a31b-b04767ba6d3b button.colab-df-convert');\n",
              "        buttonEl.style.display =\n",
              "          google.colab.kernel.accessAllowed ? 'block' : 'none';\n",
              "\n",
              "        async function convertToInteractive(key) {\n",
              "          const element = document.querySelector('#df-4acf6d80-6e2c-4ed5-a31b-b04767ba6d3b');\n",
              "          const dataTable =\n",
              "            await google.colab.kernel.invokeFunction('convertToInteractive',\n",
              "                                                     [key], {});\n",
              "          if (!dataTable) return;\n",
              "\n",
              "          const docLinkHtml = 'Like what you see? Visit the ' +\n",
              "            '<a target=\"_blank\" href=https://colab.research.google.com/notebooks/data_table.ipynb>data table notebook</a>'\n",
              "            + ' to learn more about interactive tables.';\n",
              "          element.innerHTML = '';\n",
              "          dataTable['output_type'] = 'display_data';\n",
              "          await google.colab.output.renderOutput(dataTable, element);\n",
              "          const docLink = document.createElement('div');\n",
              "          docLink.innerHTML = docLinkHtml;\n",
              "          element.appendChild(docLink);\n",
              "        }\n",
              "      </script>\n",
              "    </div>\n",
              "  </div>\n",
              "  "
            ],
            "text/plain": [
              "     step      type   amount  ...  newbalanceDest  isFraud  isFlaggedFraud\n",
              "2       1  TRANSFER    181.0  ...             0.0        1               0\n",
              "3       1  CASH_OUT    181.0  ...             0.0        1               0\n",
              "251     1  TRANSFER   2806.0  ...             0.0        1               0\n",
              "252     1  CASH_OUT   2806.0  ...             0.0        1               0\n",
              "680     1  TRANSFER  20128.0  ...             0.0        1               0\n",
              "\n",
              "[5 rows x 9 columns]"
            ]
          },
          "metadata": {},
          "execution_count": 81
        }
      ],
      "source": [
        "fraud.head()"
      ]
    },
    {
      "cell_type": "code",
      "execution_count": null,
      "metadata": {
        "id": "Lz8pR53R8x5W"
      },
      "outputs": [],
      "source": [
        "dfinput = fraud.iloc[:,[0,2,3,4,5,6]]\n",
        "dfoutput = fraud.iloc[:,-2]"
      ]
    },
    {
      "cell_type": "code",
      "execution_count": null,
      "metadata": {
        "id": "XTP8XssH8x5X"
      },
      "outputs": [],
      "source": [
        "dfinput_train,dfinput_test,dfoutput_train,dfoutput_test=train_test_split(dfinput, dfoutput, train_size=0.8,  random_state=100)"
      ]
    },
    {
      "cell_type": "code",
      "execution_count": null,
      "metadata": {
        "id": "yXYyx8Qt8x5Y",
        "outputId": "4bc4207c-618e-4ea8-c39b-fc7aa0814f99",
        "colab": {
          "base_uri": "https://localhost:8080/"
        }
      },
      "outputs": [
        {
          "output_type": "execute_result",
          "data": {
            "text/plain": [
              "(6570, 6)"
            ]
          },
          "metadata": {},
          "execution_count": 84
        }
      ],
      "source": [
        "dfinput_train.shape"
      ]
    },
    {
      "cell_type": "code",
      "execution_count": null,
      "metadata": {
        "id": "HVUyTief8x5Z",
        "outputId": "664f6543-2b40-4f77-b0a0-3eff4a06ff3e",
        "colab": {
          "base_uri": "https://localhost:8080/"
        }
      },
      "outputs": [
        {
          "output_type": "execute_result",
          "data": {
            "text/plain": [
              "1    6570\n",
              "Name: isFraud, dtype: int64"
            ]
          },
          "metadata": {},
          "execution_count": 85
        }
      ],
      "source": [
        "dfoutput_train.value_counts()"
      ]
    },
    {
      "cell_type": "code",
      "execution_count": null,
      "metadata": {
        "id": "Rd-NujvL8x5a"
      },
      "outputs": [],
      "source": [
        "# %whos"
      ]
    },
    {
      "cell_type": "code",
      "execution_count": null,
      "metadata": {
        "id": "8Bw8xMfG8x5a",
        "outputId": "98d8f4f4-739f-4470-f34e-77e5a075603e",
        "colab": {
          "base_uri": "https://localhost:8080/"
        }
      },
      "outputs": [
        {
          "output_type": "execute_result",
          "data": {
            "text/plain": [
              "(6354407, 9)"
            ]
          },
          "metadata": {},
          "execution_count": 87
        }
      ],
      "source": [
        "notFraud.shape\n",
        "    "
      ]
    },
    {
      "cell_type": "code",
      "execution_count": null,
      "metadata": {
        "id": "OPQ6ezn88x5b",
        "outputId": "3b4e8d49-629d-4ca5-8ec8-3374bab6e44f",
        "colab": {
          "base_uri": "https://localhost:8080/"
        }
      },
      "outputs": [
        {
          "output_type": "execute_result",
          "data": {
            "text/plain": [
              "(8213, 9)"
            ]
          },
          "metadata": {},
          "execution_count": 88
        }
      ],
      "source": [
        "fraud.shape"
      ]
    },
    {
      "cell_type": "markdown",
      "source": [
        "## Over Sampling "
      ],
      "metadata": {
        "id": "V2HWK4r7U_IE"
      }
    },
    {
      "cell_type": "code",
      "execution_count": null,
      "metadata": {
        "id": "TtEdtxW88x5c"
      },
      "outputs": [],
      "source": [
        "over = fraud.sample(n=6354407, replace = True)"
      ]
    },
    {
      "cell_type": "code",
      "execution_count": null,
      "metadata": {
        "id": "QeYcELqB8x5c",
        "outputId": "88d69fec-0246-4cef-f86d-a8b4fb0cc740",
        "colab": {
          "base_uri": "https://localhost:8080/"
        }
      },
      "outputs": [
        {
          "output_type": "execute_result",
          "data": {
            "text/plain": [
              "(6354407, 9)"
            ]
          },
          "metadata": {},
          "execution_count": 90
        }
      ],
      "source": [
        "over.shape"
      ]
    },
    {
      "cell_type": "code",
      "execution_count": null,
      "metadata": {
        "id": "1FApwTGK8x5d",
        "outputId": "1207be09-ab83-4830-f26e-1f1bce983e0d",
        "colab": {
          "base_uri": "https://localhost:8080/"
        }
      },
      "outputs": [
        {
          "output_type": "execute_result",
          "data": {
            "text/plain": [
              "1    6354407\n",
              "0    6354407\n",
              "Name: isFraud, dtype: int64"
            ]
          },
          "metadata": {},
          "execution_count": 91
        }
      ],
      "source": [
        "Bal_df = pd.concat([notFraud,over])\n",
        "Bal_df['isFraud'].value_counts()"
      ]
    },
    {
      "cell_type": "markdown",
      "source": [
        "##selecting sample from data"
      ],
      "metadata": {
        "id": "nUcviKHzBOfw"
      }
    },
    {
      "cell_type": "code",
      "execution_count": null,
      "metadata": {
        "id": "R4lTKzcP8x5e"
      },
      "outputs": [],
      "source": [
        "Bal_df_samp = Bal_df.sample(n=50)"
      ]
    },
    {
      "cell_type": "code",
      "execution_count": null,
      "metadata": {
        "id": "wvYJ_a6O8x5j",
        "outputId": "7ee57a97-207d-4682-a7fa-e7ee0ccd94c5",
        "colab": {
          "base_uri": "https://localhost:8080/",
          "height": 344
        }
      },
      "outputs": [
        {
          "output_type": "execute_result",
          "data": {
            "text/html": [
              "\n",
              "  <div id=\"df-ae07f165-a546-414c-ae3a-d659fad7951a\">\n",
              "    <div class=\"colab-df-container\">\n",
              "      <div>\n",
              "<style scoped>\n",
              "    .dataframe tbody tr th:only-of-type {\n",
              "        vertical-align: middle;\n",
              "    }\n",
              "\n",
              "    .dataframe tbody tr th {\n",
              "        vertical-align: top;\n",
              "    }\n",
              "\n",
              "    .dataframe thead th {\n",
              "        text-align: right;\n",
              "    }\n",
              "</style>\n",
              "<table border=\"1\" class=\"dataframe\">\n",
              "  <thead>\n",
              "    <tr style=\"text-align: right;\">\n",
              "      <th></th>\n",
              "      <th>step</th>\n",
              "      <th>amount</th>\n",
              "      <th>oldbalanceOrg</th>\n",
              "      <th>newbalanceOrig</th>\n",
              "      <th>oldbalanceDest</th>\n",
              "      <th>newbalanceDest</th>\n",
              "      <th>isFraud</th>\n",
              "      <th>isFlaggedFraud</th>\n",
              "    </tr>\n",
              "  </thead>\n",
              "  <tbody>\n",
              "    <tr>\n",
              "      <th>step</th>\n",
              "      <td>1.000000</td>\n",
              "      <td>0.012773</td>\n",
              "      <td>0.040851</td>\n",
              "      <td>0.031801</td>\n",
              "      <td>-0.115626</td>\n",
              "      <td>-0.065265</td>\n",
              "      <td>0.265577</td>\n",
              "      <td>NaN</td>\n",
              "    </tr>\n",
              "    <tr>\n",
              "      <th>amount</th>\n",
              "      <td>0.012773</td>\n",
              "      <td>1.000000</td>\n",
              "      <td>0.035420</td>\n",
              "      <td>-0.148907</td>\n",
              "      <td>-0.182709</td>\n",
              "      <td>0.137796</td>\n",
              "      <td>0.471561</td>\n",
              "      <td>NaN</td>\n",
              "    </tr>\n",
              "    <tr>\n",
              "      <th>oldbalanceOrg</th>\n",
              "      <td>0.040851</td>\n",
              "      <td>0.035420</td>\n",
              "      <td>1.000000</td>\n",
              "      <td>0.982571</td>\n",
              "      <td>0.508422</td>\n",
              "      <td>0.407663</td>\n",
              "      <td>-0.197701</td>\n",
              "      <td>NaN</td>\n",
              "    </tr>\n",
              "    <tr>\n",
              "      <th>newbalanceOrig</th>\n",
              "      <td>0.031801</td>\n",
              "      <td>-0.148907</td>\n",
              "      <td>0.982571</td>\n",
              "      <td>1.000000</td>\n",
              "      <td>0.541318</td>\n",
              "      <td>0.383937</td>\n",
              "      <td>-0.293686</td>\n",
              "      <td>NaN</td>\n",
              "    </tr>\n",
              "    <tr>\n",
              "      <th>oldbalanceDest</th>\n",
              "      <td>-0.115626</td>\n",
              "      <td>-0.182709</td>\n",
              "      <td>0.508422</td>\n",
              "      <td>0.541318</td>\n",
              "      <td>1.000000</td>\n",
              "      <td>0.850022</td>\n",
              "      <td>-0.398278</td>\n",
              "      <td>NaN</td>\n",
              "    </tr>\n",
              "    <tr>\n",
              "      <th>newbalanceDest</th>\n",
              "      <td>-0.065265</td>\n",
              "      <td>0.137796</td>\n",
              "      <td>0.407663</td>\n",
              "      <td>0.383937</td>\n",
              "      <td>0.850022</td>\n",
              "      <td>1.000000</td>\n",
              "      <td>-0.215100</td>\n",
              "      <td>NaN</td>\n",
              "    </tr>\n",
              "    <tr>\n",
              "      <th>isFraud</th>\n",
              "      <td>0.265577</td>\n",
              "      <td>0.471561</td>\n",
              "      <td>-0.197701</td>\n",
              "      <td>-0.293686</td>\n",
              "      <td>-0.398278</td>\n",
              "      <td>-0.215100</td>\n",
              "      <td>1.000000</td>\n",
              "      <td>NaN</td>\n",
              "    </tr>\n",
              "    <tr>\n",
              "      <th>isFlaggedFraud</th>\n",
              "      <td>NaN</td>\n",
              "      <td>NaN</td>\n",
              "      <td>NaN</td>\n",
              "      <td>NaN</td>\n",
              "      <td>NaN</td>\n",
              "      <td>NaN</td>\n",
              "      <td>NaN</td>\n",
              "      <td>NaN</td>\n",
              "    </tr>\n",
              "  </tbody>\n",
              "</table>\n",
              "</div>\n",
              "      <button class=\"colab-df-convert\" onclick=\"convertToInteractive('df-ae07f165-a546-414c-ae3a-d659fad7951a')\"\n",
              "              title=\"Convert this dataframe to an interactive table.\"\n",
              "              style=\"display:none;\">\n",
              "        \n",
              "  <svg xmlns=\"http://www.w3.org/2000/svg\" height=\"24px\"viewBox=\"0 0 24 24\"\n",
              "       width=\"24px\">\n",
              "    <path d=\"M0 0h24v24H0V0z\" fill=\"none\"/>\n",
              "    <path d=\"M18.56 5.44l.94 2.06.94-2.06 2.06-.94-2.06-.94-.94-2.06-.94 2.06-2.06.94zm-11 1L8.5 8.5l.94-2.06 2.06-.94-2.06-.94L8.5 2.5l-.94 2.06-2.06.94zm10 10l.94 2.06.94-2.06 2.06-.94-2.06-.94-.94-2.06-.94 2.06-2.06.94z\"/><path d=\"M17.41 7.96l-1.37-1.37c-.4-.4-.92-.59-1.43-.59-.52 0-1.04.2-1.43.59L10.3 9.45l-7.72 7.72c-.78.78-.78 2.05 0 2.83L4 21.41c.39.39.9.59 1.41.59.51 0 1.02-.2 1.41-.59l7.78-7.78 2.81-2.81c.8-.78.8-2.07 0-2.86zM5.41 20L4 18.59l7.72-7.72 1.47 1.35L5.41 20z\"/>\n",
              "  </svg>\n",
              "      </button>\n",
              "      \n",
              "  <style>\n",
              "    .colab-df-container {\n",
              "      display:flex;\n",
              "      flex-wrap:wrap;\n",
              "      gap: 12px;\n",
              "    }\n",
              "\n",
              "    .colab-df-convert {\n",
              "      background-color: #E8F0FE;\n",
              "      border: none;\n",
              "      border-radius: 50%;\n",
              "      cursor: pointer;\n",
              "      display: none;\n",
              "      fill: #1967D2;\n",
              "      height: 32px;\n",
              "      padding: 0 0 0 0;\n",
              "      width: 32px;\n",
              "    }\n",
              "\n",
              "    .colab-df-convert:hover {\n",
              "      background-color: #E2EBFA;\n",
              "      box-shadow: 0px 1px 2px rgba(60, 64, 67, 0.3), 0px 1px 3px 1px rgba(60, 64, 67, 0.15);\n",
              "      fill: #174EA6;\n",
              "    }\n",
              "\n",
              "    [theme=dark] .colab-df-convert {\n",
              "      background-color: #3B4455;\n",
              "      fill: #D2E3FC;\n",
              "    }\n",
              "\n",
              "    [theme=dark] .colab-df-convert:hover {\n",
              "      background-color: #434B5C;\n",
              "      box-shadow: 0px 1px 3px 1px rgba(0, 0, 0, 0.15);\n",
              "      filter: drop-shadow(0px 1px 2px rgba(0, 0, 0, 0.3));\n",
              "      fill: #FFFFFF;\n",
              "    }\n",
              "  </style>\n",
              "\n",
              "      <script>\n",
              "        const buttonEl =\n",
              "          document.querySelector('#df-ae07f165-a546-414c-ae3a-d659fad7951a button.colab-df-convert');\n",
              "        buttonEl.style.display =\n",
              "          google.colab.kernel.accessAllowed ? 'block' : 'none';\n",
              "\n",
              "        async function convertToInteractive(key) {\n",
              "          const element = document.querySelector('#df-ae07f165-a546-414c-ae3a-d659fad7951a');\n",
              "          const dataTable =\n",
              "            await google.colab.kernel.invokeFunction('convertToInteractive',\n",
              "                                                     [key], {});\n",
              "          if (!dataTable) return;\n",
              "\n",
              "          const docLinkHtml = 'Like what you see? Visit the ' +\n",
              "            '<a target=\"_blank\" href=https://colab.research.google.com/notebooks/data_table.ipynb>data table notebook</a>'\n",
              "            + ' to learn more about interactive tables.';\n",
              "          element.innerHTML = '';\n",
              "          dataTable['output_type'] = 'display_data';\n",
              "          await google.colab.output.renderOutput(dataTable, element);\n",
              "          const docLink = document.createElement('div');\n",
              "          docLink.innerHTML = docLinkHtml;\n",
              "          element.appendChild(docLink);\n",
              "        }\n",
              "      </script>\n",
              "    </div>\n",
              "  </div>\n",
              "  "
            ],
            "text/plain": [
              "                    step    amount  ...   isFraud  isFlaggedFraud\n",
              "step            1.000000  0.012773  ...  0.265577             NaN\n",
              "amount          0.012773  1.000000  ...  0.471561             NaN\n",
              "oldbalanceOrg   0.040851  0.035420  ... -0.197701             NaN\n",
              "newbalanceOrig  0.031801 -0.148907  ... -0.293686             NaN\n",
              "oldbalanceDest -0.115626 -0.182709  ... -0.398278             NaN\n",
              "newbalanceDest -0.065265  0.137796  ... -0.215100             NaN\n",
              "isFraud         0.265577  0.471561  ...  1.000000             NaN\n",
              "isFlaggedFraud       NaN       NaN  ...       NaN             NaN\n",
              "\n",
              "[8 rows x 8 columns]"
            ]
          },
          "metadata": {},
          "execution_count": 93
        }
      ],
      "source": [
        "Bal_df_samp.corr()"
      ]
    },
    {
      "cell_type": "code",
      "execution_count": null,
      "metadata": {
        "id": "1TqQiOLO8x5l",
        "outputId": "e900bb10-2e38-43a5-f478-8931a06e447b",
        "colab": {
          "base_uri": "https://localhost:8080/",
          "height": 206
        }
      },
      "outputs": [
        {
          "output_type": "execute_result",
          "data": {
            "text/html": [
              "\n",
              "  <div id=\"df-896a0b75-ac66-424b-a170-c7a46cb8d9bc\">\n",
              "    <div class=\"colab-df-container\">\n",
              "      <div>\n",
              "<style scoped>\n",
              "    .dataframe tbody tr th:only-of-type {\n",
              "        vertical-align: middle;\n",
              "    }\n",
              "\n",
              "    .dataframe tbody tr th {\n",
              "        vertical-align: top;\n",
              "    }\n",
              "\n",
              "    .dataframe thead th {\n",
              "        text-align: right;\n",
              "    }\n",
              "</style>\n",
              "<table border=\"1\" class=\"dataframe\">\n",
              "  <thead>\n",
              "    <tr style=\"text-align: right;\">\n",
              "      <th></th>\n",
              "      <th>step</th>\n",
              "      <th>amount</th>\n",
              "      <th>oldbalanceOrg</th>\n",
              "      <th>newbalanceOrig</th>\n",
              "      <th>oldbalanceDest</th>\n",
              "      <th>isFraud</th>\n",
              "    </tr>\n",
              "  </thead>\n",
              "  <tbody>\n",
              "    <tr>\n",
              "      <th>6248334</th>\n",
              "      <td>596</td>\n",
              "      <td>196385.55</td>\n",
              "      <td>196385.55</td>\n",
              "      <td>0.00</td>\n",
              "      <td>0.00</td>\n",
              "      <td>1</td>\n",
              "    </tr>\n",
              "    <tr>\n",
              "      <th>2890975</th>\n",
              "      <td>228</td>\n",
              "      <td>24195.86</td>\n",
              "      <td>85562.22</td>\n",
              "      <td>61366.36</td>\n",
              "      <td>0.00</td>\n",
              "      <td>0</td>\n",
              "    </tr>\n",
              "    <tr>\n",
              "      <th>4376577</th>\n",
              "      <td>311</td>\n",
              "      <td>1275236.30</td>\n",
              "      <td>1275236.30</td>\n",
              "      <td>0.00</td>\n",
              "      <td>0.00</td>\n",
              "      <td>1</td>\n",
              "    </tr>\n",
              "    <tr>\n",
              "      <th>2735160</th>\n",
              "      <td>212</td>\n",
              "      <td>20065.99</td>\n",
              "      <td>8956795.13</td>\n",
              "      <td>8976861.12</td>\n",
              "      <td>983238.55</td>\n",
              "      <td>0</td>\n",
              "    </tr>\n",
              "    <tr>\n",
              "      <th>855227</th>\n",
              "      <td>41</td>\n",
              "      <td>1270564.34</td>\n",
              "      <td>1270564.34</td>\n",
              "      <td>0.00</td>\n",
              "      <td>0.00</td>\n",
              "      <td>1</td>\n",
              "    </tr>\n",
              "  </tbody>\n",
              "</table>\n",
              "</div>\n",
              "      <button class=\"colab-df-convert\" onclick=\"convertToInteractive('df-896a0b75-ac66-424b-a170-c7a46cb8d9bc')\"\n",
              "              title=\"Convert this dataframe to an interactive table.\"\n",
              "              style=\"display:none;\">\n",
              "        \n",
              "  <svg xmlns=\"http://www.w3.org/2000/svg\" height=\"24px\"viewBox=\"0 0 24 24\"\n",
              "       width=\"24px\">\n",
              "    <path d=\"M0 0h24v24H0V0z\" fill=\"none\"/>\n",
              "    <path d=\"M18.56 5.44l.94 2.06.94-2.06 2.06-.94-2.06-.94-.94-2.06-.94 2.06-2.06.94zm-11 1L8.5 8.5l.94-2.06 2.06-.94-2.06-.94L8.5 2.5l-.94 2.06-2.06.94zm10 10l.94 2.06.94-2.06 2.06-.94-2.06-.94-.94-2.06-.94 2.06-2.06.94z\"/><path d=\"M17.41 7.96l-1.37-1.37c-.4-.4-.92-.59-1.43-.59-.52 0-1.04.2-1.43.59L10.3 9.45l-7.72 7.72c-.78.78-.78 2.05 0 2.83L4 21.41c.39.39.9.59 1.41.59.51 0 1.02-.2 1.41-.59l7.78-7.78 2.81-2.81c.8-.78.8-2.07 0-2.86zM5.41 20L4 18.59l7.72-7.72 1.47 1.35L5.41 20z\"/>\n",
              "  </svg>\n",
              "      </button>\n",
              "      \n",
              "  <style>\n",
              "    .colab-df-container {\n",
              "      display:flex;\n",
              "      flex-wrap:wrap;\n",
              "      gap: 12px;\n",
              "    }\n",
              "\n",
              "    .colab-df-convert {\n",
              "      background-color: #E8F0FE;\n",
              "      border: none;\n",
              "      border-radius: 50%;\n",
              "      cursor: pointer;\n",
              "      display: none;\n",
              "      fill: #1967D2;\n",
              "      height: 32px;\n",
              "      padding: 0 0 0 0;\n",
              "      width: 32px;\n",
              "    }\n",
              "\n",
              "    .colab-df-convert:hover {\n",
              "      background-color: #E2EBFA;\n",
              "      box-shadow: 0px 1px 2px rgba(60, 64, 67, 0.3), 0px 1px 3px 1px rgba(60, 64, 67, 0.15);\n",
              "      fill: #174EA6;\n",
              "    }\n",
              "\n",
              "    [theme=dark] .colab-df-convert {\n",
              "      background-color: #3B4455;\n",
              "      fill: #D2E3FC;\n",
              "    }\n",
              "\n",
              "    [theme=dark] .colab-df-convert:hover {\n",
              "      background-color: #434B5C;\n",
              "      box-shadow: 0px 1px 3px 1px rgba(0, 0, 0, 0.15);\n",
              "      filter: drop-shadow(0px 1px 2px rgba(0, 0, 0, 0.3));\n",
              "      fill: #FFFFFF;\n",
              "    }\n",
              "  </style>\n",
              "\n",
              "      <script>\n",
              "        const buttonEl =\n",
              "          document.querySelector('#df-896a0b75-ac66-424b-a170-c7a46cb8d9bc button.colab-df-convert');\n",
              "        buttonEl.style.display =\n",
              "          google.colab.kernel.accessAllowed ? 'block' : 'none';\n",
              "\n",
              "        async function convertToInteractive(key) {\n",
              "          const element = document.querySelector('#df-896a0b75-ac66-424b-a170-c7a46cb8d9bc');\n",
              "          const dataTable =\n",
              "            await google.colab.kernel.invokeFunction('convertToInteractive',\n",
              "                                                     [key], {});\n",
              "          if (!dataTable) return;\n",
              "\n",
              "          const docLinkHtml = 'Like what you see? Visit the ' +\n",
              "            '<a target=\"_blank\" href=https://colab.research.google.com/notebooks/data_table.ipynb>data table notebook</a>'\n",
              "            + ' to learn more about interactive tables.';\n",
              "          element.innerHTML = '';\n",
              "          dataTable['output_type'] = 'display_data';\n",
              "          await google.colab.output.renderOutput(dataTable, element);\n",
              "          const docLink = document.createElement('div');\n",
              "          docLink.innerHTML = docLinkHtml;\n",
              "          element.appendChild(docLink);\n",
              "        }\n",
              "      </script>\n",
              "    </div>\n",
              "  </div>\n",
              "  "
            ],
            "text/plain": [
              "         step      amount  ...  oldbalanceDest  isFraud\n",
              "6248334   596   196385.55  ...            0.00        1\n",
              "2890975   228    24195.86  ...            0.00        0\n",
              "4376577   311  1275236.30  ...            0.00        1\n",
              "2735160   212    20065.99  ...       983238.55        0\n",
              "855227     41  1270564.34  ...            0.00        1\n",
              "\n",
              "[5 rows x 6 columns]"
            ]
          },
          "metadata": {},
          "execution_count": 94
        }
      ],
      "source": [
        "Bal_df_samp = Bal_df_samp.drop(['type','newbalanceDest','isFlaggedFraud'], axis = 1)\n",
        "Bal_df_samp.head()"
      ]
    },
    {
      "cell_type": "code",
      "execution_count": null,
      "metadata": {
        "id": "NP4w4Str8x5l",
        "outputId": "f1ef9432-fe69-4165-99a7-0bdd1c030de3",
        "colab": {
          "base_uri": "https://localhost:8080/",
          "height": 238
        }
      },
      "outputs": [
        {
          "output_type": "execute_result",
          "data": {
            "text/html": [
              "\n",
              "  <div id=\"df-60985886-621a-4086-9205-a2ff2c24f96e\">\n",
              "    <div class=\"colab-df-container\">\n",
              "      <div>\n",
              "<style scoped>\n",
              "    .dataframe tbody tr th:only-of-type {\n",
              "        vertical-align: middle;\n",
              "    }\n",
              "\n",
              "    .dataframe tbody tr th {\n",
              "        vertical-align: top;\n",
              "    }\n",
              "\n",
              "    .dataframe thead th {\n",
              "        text-align: right;\n",
              "    }\n",
              "</style>\n",
              "<table border=\"1\" class=\"dataframe\">\n",
              "  <thead>\n",
              "    <tr style=\"text-align: right;\">\n",
              "      <th></th>\n",
              "      <th>step</th>\n",
              "      <th>amount</th>\n",
              "      <th>oldbalanceOrg</th>\n",
              "      <th>newbalanceOrig</th>\n",
              "      <th>oldbalanceDest</th>\n",
              "      <th>isFraud</th>\n",
              "    </tr>\n",
              "  </thead>\n",
              "  <tbody>\n",
              "    <tr>\n",
              "      <th>step</th>\n",
              "      <td>1.000000</td>\n",
              "      <td>0.012773</td>\n",
              "      <td>0.040851</td>\n",
              "      <td>0.031801</td>\n",
              "      <td>-0.115626</td>\n",
              "      <td>0.265577</td>\n",
              "    </tr>\n",
              "    <tr>\n",
              "      <th>amount</th>\n",
              "      <td>0.012773</td>\n",
              "      <td>1.000000</td>\n",
              "      <td>0.035420</td>\n",
              "      <td>-0.148907</td>\n",
              "      <td>-0.182709</td>\n",
              "      <td>0.471561</td>\n",
              "    </tr>\n",
              "    <tr>\n",
              "      <th>oldbalanceOrg</th>\n",
              "      <td>0.040851</td>\n",
              "      <td>0.035420</td>\n",
              "      <td>1.000000</td>\n",
              "      <td>0.982571</td>\n",
              "      <td>0.508422</td>\n",
              "      <td>-0.197701</td>\n",
              "    </tr>\n",
              "    <tr>\n",
              "      <th>newbalanceOrig</th>\n",
              "      <td>0.031801</td>\n",
              "      <td>-0.148907</td>\n",
              "      <td>0.982571</td>\n",
              "      <td>1.000000</td>\n",
              "      <td>0.541318</td>\n",
              "      <td>-0.293686</td>\n",
              "    </tr>\n",
              "    <tr>\n",
              "      <th>oldbalanceDest</th>\n",
              "      <td>-0.115626</td>\n",
              "      <td>-0.182709</td>\n",
              "      <td>0.508422</td>\n",
              "      <td>0.541318</td>\n",
              "      <td>1.000000</td>\n",
              "      <td>-0.398278</td>\n",
              "    </tr>\n",
              "    <tr>\n",
              "      <th>isFraud</th>\n",
              "      <td>0.265577</td>\n",
              "      <td>0.471561</td>\n",
              "      <td>-0.197701</td>\n",
              "      <td>-0.293686</td>\n",
              "      <td>-0.398278</td>\n",
              "      <td>1.000000</td>\n",
              "    </tr>\n",
              "  </tbody>\n",
              "</table>\n",
              "</div>\n",
              "      <button class=\"colab-df-convert\" onclick=\"convertToInteractive('df-60985886-621a-4086-9205-a2ff2c24f96e')\"\n",
              "              title=\"Convert this dataframe to an interactive table.\"\n",
              "              style=\"display:none;\">\n",
              "        \n",
              "  <svg xmlns=\"http://www.w3.org/2000/svg\" height=\"24px\"viewBox=\"0 0 24 24\"\n",
              "       width=\"24px\">\n",
              "    <path d=\"M0 0h24v24H0V0z\" fill=\"none\"/>\n",
              "    <path d=\"M18.56 5.44l.94 2.06.94-2.06 2.06-.94-2.06-.94-.94-2.06-.94 2.06-2.06.94zm-11 1L8.5 8.5l.94-2.06 2.06-.94-2.06-.94L8.5 2.5l-.94 2.06-2.06.94zm10 10l.94 2.06.94-2.06 2.06-.94-2.06-.94-.94-2.06-.94 2.06-2.06.94z\"/><path d=\"M17.41 7.96l-1.37-1.37c-.4-.4-.92-.59-1.43-.59-.52 0-1.04.2-1.43.59L10.3 9.45l-7.72 7.72c-.78.78-.78 2.05 0 2.83L4 21.41c.39.39.9.59 1.41.59.51 0 1.02-.2 1.41-.59l7.78-7.78 2.81-2.81c.8-.78.8-2.07 0-2.86zM5.41 20L4 18.59l7.72-7.72 1.47 1.35L5.41 20z\"/>\n",
              "  </svg>\n",
              "      </button>\n",
              "      \n",
              "  <style>\n",
              "    .colab-df-container {\n",
              "      display:flex;\n",
              "      flex-wrap:wrap;\n",
              "      gap: 12px;\n",
              "    }\n",
              "\n",
              "    .colab-df-convert {\n",
              "      background-color: #E8F0FE;\n",
              "      border: none;\n",
              "      border-radius: 50%;\n",
              "      cursor: pointer;\n",
              "      display: none;\n",
              "      fill: #1967D2;\n",
              "      height: 32px;\n",
              "      padding: 0 0 0 0;\n",
              "      width: 32px;\n",
              "    }\n",
              "\n",
              "    .colab-df-convert:hover {\n",
              "      background-color: #E2EBFA;\n",
              "      box-shadow: 0px 1px 2px rgba(60, 64, 67, 0.3), 0px 1px 3px 1px rgba(60, 64, 67, 0.15);\n",
              "      fill: #174EA6;\n",
              "    }\n",
              "\n",
              "    [theme=dark] .colab-df-convert {\n",
              "      background-color: #3B4455;\n",
              "      fill: #D2E3FC;\n",
              "    }\n",
              "\n",
              "    [theme=dark] .colab-df-convert:hover {\n",
              "      background-color: #434B5C;\n",
              "      box-shadow: 0px 1px 3px 1px rgba(0, 0, 0, 0.15);\n",
              "      filter: drop-shadow(0px 1px 2px rgba(0, 0, 0, 0.3));\n",
              "      fill: #FFFFFF;\n",
              "    }\n",
              "  </style>\n",
              "\n",
              "      <script>\n",
              "        const buttonEl =\n",
              "          document.querySelector('#df-60985886-621a-4086-9205-a2ff2c24f96e button.colab-df-convert');\n",
              "        buttonEl.style.display =\n",
              "          google.colab.kernel.accessAllowed ? 'block' : 'none';\n",
              "\n",
              "        async function convertToInteractive(key) {\n",
              "          const element = document.querySelector('#df-60985886-621a-4086-9205-a2ff2c24f96e');\n",
              "          const dataTable =\n",
              "            await google.colab.kernel.invokeFunction('convertToInteractive',\n",
              "                                                     [key], {});\n",
              "          if (!dataTable) return;\n",
              "\n",
              "          const docLinkHtml = 'Like what you see? Visit the ' +\n",
              "            '<a target=\"_blank\" href=https://colab.research.google.com/notebooks/data_table.ipynb>data table notebook</a>'\n",
              "            + ' to learn more about interactive tables.';\n",
              "          element.innerHTML = '';\n",
              "          dataTable['output_type'] = 'display_data';\n",
              "          await google.colab.output.renderOutput(dataTable, element);\n",
              "          const docLink = document.createElement('div');\n",
              "          docLink.innerHTML = docLinkHtml;\n",
              "          element.appendChild(docLink);\n",
              "        }\n",
              "      </script>\n",
              "    </div>\n",
              "  </div>\n",
              "  "
            ],
            "text/plain": [
              "                    step    amount  ...  oldbalanceDest   isFraud\n",
              "step            1.000000  0.012773  ...       -0.115626  0.265577\n",
              "amount          0.012773  1.000000  ...       -0.182709  0.471561\n",
              "oldbalanceOrg   0.040851  0.035420  ...        0.508422 -0.197701\n",
              "newbalanceOrig  0.031801 -0.148907  ...        0.541318 -0.293686\n",
              "oldbalanceDest -0.115626 -0.182709  ...        1.000000 -0.398278\n",
              "isFraud         0.265577  0.471561  ...       -0.398278  1.000000\n",
              "\n",
              "[6 rows x 6 columns]"
            ]
          },
          "metadata": {},
          "execution_count": 95
        }
      ],
      "source": [
        "Bal_df_samp.corr()"
      ]
    },
    {
      "cell_type": "code",
      "execution_count": null,
      "metadata": {
        "id": "tM9NXnQ28x5m",
        "outputId": "cb554f32-86c0-4306-f740-7b662f4f5a9a",
        "colab": {
          "base_uri": "https://localhost:8080/",
          "height": 238
        }
      },
      "outputs": [
        {
          "output_type": "execute_result",
          "data": {
            "text/html": [
              "\n",
              "  <div id=\"df-a7a19ae3-224d-4ede-b844-03305841add1\">\n",
              "    <div class=\"colab-df-container\">\n",
              "      <div>\n",
              "<style scoped>\n",
              "    .dataframe tbody tr th:only-of-type {\n",
              "        vertical-align: middle;\n",
              "    }\n",
              "\n",
              "    .dataframe tbody tr th {\n",
              "        vertical-align: top;\n",
              "    }\n",
              "\n",
              "    .dataframe thead th {\n",
              "        text-align: right;\n",
              "    }\n",
              "</style>\n",
              "<table border=\"1\" class=\"dataframe\">\n",
              "  <thead>\n",
              "    <tr style=\"text-align: right;\">\n",
              "      <th></th>\n",
              "      <th>step</th>\n",
              "      <th>amount</th>\n",
              "      <th>oldbalanceOrg</th>\n",
              "      <th>newbalanceOrig</th>\n",
              "      <th>oldbalanceDest</th>\n",
              "      <th>isFraud</th>\n",
              "    </tr>\n",
              "  </thead>\n",
              "  <tbody>\n",
              "    <tr>\n",
              "      <th>step</th>\n",
              "      <td>2.907299e+04</td>\n",
              "      <td>1.971939e+06</td>\n",
              "      <td>3.444115e+07</td>\n",
              "      <td>2.729304e+07</td>\n",
              "      <td>-2.211398e+07</td>\n",
              "      <td>22.706122</td>\n",
              "    </tr>\n",
              "    <tr>\n",
              "      <th>amount</th>\n",
              "      <td>1.971939e+06</td>\n",
              "      <td>8.197470e+11</td>\n",
              "      <td>1.585716e+11</td>\n",
              "      <td>-6.786139e+11</td>\n",
              "      <td>-1.855531e+11</td>\n",
              "      <td>214084.410661</td>\n",
              "    </tr>\n",
              "    <tr>\n",
              "      <th>oldbalanceOrg</th>\n",
              "      <td>3.444115e+07</td>\n",
              "      <td>1.585716e+11</td>\n",
              "      <td>2.444926e+13</td>\n",
              "      <td>2.445478e+13</td>\n",
              "      <td>2.819842e+12</td>\n",
              "      <td>-490172.984882</td>\n",
              "    </tr>\n",
              "    <tr>\n",
              "      <th>newbalanceOrig</th>\n",
              "      <td>2.729304e+07</td>\n",
              "      <td>-6.786139e+11</td>\n",
              "      <td>2.445478e+13</td>\n",
              "      <td>2.533575e+13</td>\n",
              "      <td>3.056235e+12</td>\n",
              "      <td>-741238.760343</td>\n",
              "    </tr>\n",
              "    <tr>\n",
              "      <th>oldbalanceDest</th>\n",
              "      <td>-2.211398e+07</td>\n",
              "      <td>-1.855531e+11</td>\n",
              "      <td>2.819842e+12</td>\n",
              "      <td>3.056235e+12</td>\n",
              "      <td>1.258156e+12</td>\n",
              "      <td>-224006.653404</td>\n",
              "    </tr>\n",
              "    <tr>\n",
              "      <th>isFraud</th>\n",
              "      <td>2.270612e+01</td>\n",
              "      <td>2.140844e+05</td>\n",
              "      <td>-4.901730e+05</td>\n",
              "      <td>-7.412388e+05</td>\n",
              "      <td>-2.240067e+05</td>\n",
              "      <td>0.251429</td>\n",
              "    </tr>\n",
              "  </tbody>\n",
              "</table>\n",
              "</div>\n",
              "      <button class=\"colab-df-convert\" onclick=\"convertToInteractive('df-a7a19ae3-224d-4ede-b844-03305841add1')\"\n",
              "              title=\"Convert this dataframe to an interactive table.\"\n",
              "              style=\"display:none;\">\n",
              "        \n",
              "  <svg xmlns=\"http://www.w3.org/2000/svg\" height=\"24px\"viewBox=\"0 0 24 24\"\n",
              "       width=\"24px\">\n",
              "    <path d=\"M0 0h24v24H0V0z\" fill=\"none\"/>\n",
              "    <path d=\"M18.56 5.44l.94 2.06.94-2.06 2.06-.94-2.06-.94-.94-2.06-.94 2.06-2.06.94zm-11 1L8.5 8.5l.94-2.06 2.06-.94-2.06-.94L8.5 2.5l-.94 2.06-2.06.94zm10 10l.94 2.06.94-2.06 2.06-.94-2.06-.94-.94-2.06-.94 2.06-2.06.94z\"/><path d=\"M17.41 7.96l-1.37-1.37c-.4-.4-.92-.59-1.43-.59-.52 0-1.04.2-1.43.59L10.3 9.45l-7.72 7.72c-.78.78-.78 2.05 0 2.83L4 21.41c.39.39.9.59 1.41.59.51 0 1.02-.2 1.41-.59l7.78-7.78 2.81-2.81c.8-.78.8-2.07 0-2.86zM5.41 20L4 18.59l7.72-7.72 1.47 1.35L5.41 20z\"/>\n",
              "  </svg>\n",
              "      </button>\n",
              "      \n",
              "  <style>\n",
              "    .colab-df-container {\n",
              "      display:flex;\n",
              "      flex-wrap:wrap;\n",
              "      gap: 12px;\n",
              "    }\n",
              "\n",
              "    .colab-df-convert {\n",
              "      background-color: #E8F0FE;\n",
              "      border: none;\n",
              "      border-radius: 50%;\n",
              "      cursor: pointer;\n",
              "      display: none;\n",
              "      fill: #1967D2;\n",
              "      height: 32px;\n",
              "      padding: 0 0 0 0;\n",
              "      width: 32px;\n",
              "    }\n",
              "\n",
              "    .colab-df-convert:hover {\n",
              "      background-color: #E2EBFA;\n",
              "      box-shadow: 0px 1px 2px rgba(60, 64, 67, 0.3), 0px 1px 3px 1px rgba(60, 64, 67, 0.15);\n",
              "      fill: #174EA6;\n",
              "    }\n",
              "\n",
              "    [theme=dark] .colab-df-convert {\n",
              "      background-color: #3B4455;\n",
              "      fill: #D2E3FC;\n",
              "    }\n",
              "\n",
              "    [theme=dark] .colab-df-convert:hover {\n",
              "      background-color: #434B5C;\n",
              "      box-shadow: 0px 1px 3px 1px rgba(0, 0, 0, 0.15);\n",
              "      filter: drop-shadow(0px 1px 2px rgba(0, 0, 0, 0.3));\n",
              "      fill: #FFFFFF;\n",
              "    }\n",
              "  </style>\n",
              "\n",
              "      <script>\n",
              "        const buttonEl =\n",
              "          document.querySelector('#df-a7a19ae3-224d-4ede-b844-03305841add1 button.colab-df-convert');\n",
              "        buttonEl.style.display =\n",
              "          google.colab.kernel.accessAllowed ? 'block' : 'none';\n",
              "\n",
              "        async function convertToInteractive(key) {\n",
              "          const element = document.querySelector('#df-a7a19ae3-224d-4ede-b844-03305841add1');\n",
              "          const dataTable =\n",
              "            await google.colab.kernel.invokeFunction('convertToInteractive',\n",
              "                                                     [key], {});\n",
              "          if (!dataTable) return;\n",
              "\n",
              "          const docLinkHtml = 'Like what you see? Visit the ' +\n",
              "            '<a target=\"_blank\" href=https://colab.research.google.com/notebooks/data_table.ipynb>data table notebook</a>'\n",
              "            + ' to learn more about interactive tables.';\n",
              "          element.innerHTML = '';\n",
              "          dataTable['output_type'] = 'display_data';\n",
              "          await google.colab.output.renderOutput(dataTable, element);\n",
              "          const docLink = document.createElement('div');\n",
              "          docLink.innerHTML = docLinkHtml;\n",
              "          element.appendChild(docLink);\n",
              "        }\n",
              "      </script>\n",
              "    </div>\n",
              "  </div>\n",
              "  "
            ],
            "text/plain": [
              "                        step        amount  ...  oldbalanceDest        isFraud\n",
              "step            2.907299e+04  1.971939e+06  ...   -2.211398e+07      22.706122\n",
              "amount          1.971939e+06  8.197470e+11  ...   -1.855531e+11  214084.410661\n",
              "oldbalanceOrg   3.444115e+07  1.585716e+11  ...    2.819842e+12 -490172.984882\n",
              "newbalanceOrig  2.729304e+07 -6.786139e+11  ...    3.056235e+12 -741238.760343\n",
              "oldbalanceDest -2.211398e+07 -1.855531e+11  ...    1.258156e+12 -224006.653404\n",
              "isFraud         2.270612e+01  2.140844e+05  ...   -2.240067e+05       0.251429\n",
              "\n",
              "[6 rows x 6 columns]"
            ]
          },
          "metadata": {},
          "execution_count": 96
        }
      ],
      "source": [
        "Bal_df_samp.cov()"
      ]
    },
    {
      "cell_type": "code",
      "execution_count": null,
      "metadata": {
        "id": "M72fDDMW8x5m",
        "outputId": "221eb8a2-5dd6-4ec6-fb22-1feaf42cf051",
        "colab": {
          "base_uri": "https://localhost:8080/"
        }
      },
      "outputs": [
        {
          "output_type": "execute_result",
          "data": {
            "text/plain": [
              "1    28\n",
              "0    22\n",
              "Name: isFraud, dtype: int64"
            ]
          },
          "metadata": {},
          "execution_count": 97
        }
      ],
      "source": [
        "Bal_df_samp['isFraud'].value_counts()\n"
      ]
    },
    {
      "cell_type": "code",
      "execution_count": null,
      "metadata": {
        "id": "lTlOiv9J8x5n"
      },
      "outputs": [],
      "source": [
        "X = Bal_df_samp.iloc[:,[1,2,3,4]]\n",
        "Y = Bal_df_samp.iloc[:,-1]"
      ]
    },
    {
      "cell_type": "code",
      "execution_count": null,
      "metadata": {
        "id": "73O-CFWD8x5o",
        "outputId": "71df1141-d623-472d-be74-e2ebf9d00159",
        "colab": {
          "base_uri": "https://localhost:8080/",
          "height": 1000
        }
      },
      "outputs": [
        {
          "output_type": "execute_result",
          "data": {
            "text/html": [
              "\n",
              "  <div id=\"df-a2fd20e2-0005-42fc-9058-065d7d9f028c\">\n",
              "    <div class=\"colab-df-container\">\n",
              "      <div>\n",
              "<style scoped>\n",
              "    .dataframe tbody tr th:only-of-type {\n",
              "        vertical-align: middle;\n",
              "    }\n",
              "\n",
              "    .dataframe tbody tr th {\n",
              "        vertical-align: top;\n",
              "    }\n",
              "\n",
              "    .dataframe thead th {\n",
              "        text-align: right;\n",
              "    }\n",
              "</style>\n",
              "<table border=\"1\" class=\"dataframe\">\n",
              "  <thead>\n",
              "    <tr style=\"text-align: right;\">\n",
              "      <th></th>\n",
              "      <th>amount</th>\n",
              "      <th>oldbalanceOrg</th>\n",
              "      <th>newbalanceOrig</th>\n",
              "      <th>oldbalanceDest</th>\n",
              "    </tr>\n",
              "  </thead>\n",
              "  <tbody>\n",
              "    <tr>\n",
              "      <th>6248334</th>\n",
              "      <td>196385.55</td>\n",
              "      <td>196385.55</td>\n",
              "      <td>0.00</td>\n",
              "      <td>0.00</td>\n",
              "    </tr>\n",
              "    <tr>\n",
              "      <th>2890975</th>\n",
              "      <td>24195.86</td>\n",
              "      <td>85562.22</td>\n",
              "      <td>61366.36</td>\n",
              "      <td>0.00</td>\n",
              "    </tr>\n",
              "    <tr>\n",
              "      <th>4376577</th>\n",
              "      <td>1275236.30</td>\n",
              "      <td>1275236.30</td>\n",
              "      <td>0.00</td>\n",
              "      <td>0.00</td>\n",
              "    </tr>\n",
              "    <tr>\n",
              "      <th>2735160</th>\n",
              "      <td>20065.99</td>\n",
              "      <td>8956795.13</td>\n",
              "      <td>8976861.12</td>\n",
              "      <td>983238.55</td>\n",
              "    </tr>\n",
              "    <tr>\n",
              "      <th>855227</th>\n",
              "      <td>1270564.34</td>\n",
              "      <td>1270564.34</td>\n",
              "      <td>0.00</td>\n",
              "      <td>0.00</td>\n",
              "    </tr>\n",
              "    <tr>\n",
              "      <th>6080946</th>\n",
              "      <td>1459180.14</td>\n",
              "      <td>1459180.14</td>\n",
              "      <td>0.00</td>\n",
              "      <td>1120598.68</td>\n",
              "    </tr>\n",
              "    <tr>\n",
              "      <th>5705892</th>\n",
              "      <td>1230.56</td>\n",
              "      <td>10190172.54</td>\n",
              "      <td>10191403.10</td>\n",
              "      <td>5200722.75</td>\n",
              "    </tr>\n",
              "    <tr>\n",
              "      <th>4713511</th>\n",
              "      <td>131055.24</td>\n",
              "      <td>0.00</td>\n",
              "      <td>0.00</td>\n",
              "      <td>217329.46</td>\n",
              "    </tr>\n",
              "    <tr>\n",
              "      <th>695414</th>\n",
              "      <td>1684039.12</td>\n",
              "      <td>1684039.12</td>\n",
              "      <td>0.00</td>\n",
              "      <td>0.00</td>\n",
              "    </tr>\n",
              "    <tr>\n",
              "      <th>3459626</th>\n",
              "      <td>4373.77</td>\n",
              "      <td>104136.00</td>\n",
              "      <td>99762.23</td>\n",
              "      <td>259975.11</td>\n",
              "    </tr>\n",
              "    <tr>\n",
              "      <th>3539698</th>\n",
              "      <td>175953.67</td>\n",
              "      <td>26516.00</td>\n",
              "      <td>0.00</td>\n",
              "      <td>0.00</td>\n",
              "    </tr>\n",
              "    <tr>\n",
              "      <th>108879</th>\n",
              "      <td>477027.08</td>\n",
              "      <td>40195.00</td>\n",
              "      <td>0.00</td>\n",
              "      <td>652278.92</td>\n",
              "    </tr>\n",
              "    <tr>\n",
              "      <th>2434767</th>\n",
              "      <td>22272.95</td>\n",
              "      <td>0.00</td>\n",
              "      <td>0.00</td>\n",
              "      <td>0.00</td>\n",
              "    </tr>\n",
              "    <tr>\n",
              "      <th>2940047</th>\n",
              "      <td>255825.28</td>\n",
              "      <td>516.00</td>\n",
              "      <td>0.00</td>\n",
              "      <td>283362.91</td>\n",
              "    </tr>\n",
              "    <tr>\n",
              "      <th>1090426</th>\n",
              "      <td>1456.12</td>\n",
              "      <td>337.00</td>\n",
              "      <td>0.00</td>\n",
              "      <td>0.00</td>\n",
              "    </tr>\n",
              "    <tr>\n",
              "      <th>437292</th>\n",
              "      <td>9131.00</td>\n",
              "      <td>9131.00</td>\n",
              "      <td>0.00</td>\n",
              "      <td>133084.02</td>\n",
              "    </tr>\n",
              "    <tr>\n",
              "      <th>2121441</th>\n",
              "      <td>2075328.73</td>\n",
              "      <td>2075328.73</td>\n",
              "      <td>0.00</td>\n",
              "      <td>0.00</td>\n",
              "    </tr>\n",
              "    <tr>\n",
              "      <th>1410162</th>\n",
              "      <td>11653.98</td>\n",
              "      <td>11653.98</td>\n",
              "      <td>0.00</td>\n",
              "      <td>341465.93</td>\n",
              "    </tr>\n",
              "    <tr>\n",
              "      <th>457211</th>\n",
              "      <td>60666.13</td>\n",
              "      <td>0.00</td>\n",
              "      <td>0.00</td>\n",
              "      <td>822962.11</td>\n",
              "    </tr>\n",
              "    <tr>\n",
              "      <th>5965402</th>\n",
              "      <td>2732.50</td>\n",
              "      <td>6454.00</td>\n",
              "      <td>3721.50</td>\n",
              "      <td>0.00</td>\n",
              "    </tr>\n",
              "    <tr>\n",
              "      <th>2801098</th>\n",
              "      <td>2312944.11</td>\n",
              "      <td>2312944.11</td>\n",
              "      <td>0.00</td>\n",
              "      <td>0.00</td>\n",
              "    </tr>\n",
              "    <tr>\n",
              "      <th>3594068</th>\n",
              "      <td>639680.32</td>\n",
              "      <td>639680.32</td>\n",
              "      <td>0.00</td>\n",
              "      <td>0.00</td>\n",
              "    </tr>\n",
              "    <tr>\n",
              "      <th>2215824</th>\n",
              "      <td>18240.41</td>\n",
              "      <td>0.00</td>\n",
              "      <td>0.00</td>\n",
              "      <td>0.00</td>\n",
              "    </tr>\n",
              "    <tr>\n",
              "      <th>4640170</th>\n",
              "      <td>61756.82</td>\n",
              "      <td>61756.82</td>\n",
              "      <td>0.00</td>\n",
              "      <td>191770.49</td>\n",
              "    </tr>\n",
              "    <tr>\n",
              "      <th>3187601</th>\n",
              "      <td>11082.16</td>\n",
              "      <td>0.00</td>\n",
              "      <td>0.00</td>\n",
              "      <td>0.00</td>\n",
              "    </tr>\n",
              "    <tr>\n",
              "      <th>5563745</th>\n",
              "      <td>4348.62</td>\n",
              "      <td>4348.62</td>\n",
              "      <td>0.00</td>\n",
              "      <td>0.00</td>\n",
              "    </tr>\n",
              "    <tr>\n",
              "      <th>6065306</th>\n",
              "      <td>1319703.76</td>\n",
              "      <td>1319703.76</td>\n",
              "      <td>0.00</td>\n",
              "      <td>0.00</td>\n",
              "    </tr>\n",
              "    <tr>\n",
              "      <th>2116097</th>\n",
              "      <td>4354175.33</td>\n",
              "      <td>4354175.33</td>\n",
              "      <td>0.00</td>\n",
              "      <td>0.00</td>\n",
              "    </tr>\n",
              "    <tr>\n",
              "      <th>6061830</th>\n",
              "      <td>73328.47</td>\n",
              "      <td>73328.47</td>\n",
              "      <td>0.00</td>\n",
              "      <td>121670.80</td>\n",
              "    </tr>\n",
              "    <tr>\n",
              "      <th>4202746</th>\n",
              "      <td>2321633.57</td>\n",
              "      <td>2321633.57</td>\n",
              "      <td>0.00</td>\n",
              "      <td>0.00</td>\n",
              "    </tr>\n",
              "    <tr>\n",
              "      <th>6189344</th>\n",
              "      <td>1131750.38</td>\n",
              "      <td>1131750.38</td>\n",
              "      <td>0.00</td>\n",
              "      <td>313070.53</td>\n",
              "    </tr>\n",
              "    <tr>\n",
              "      <th>522656</th>\n",
              "      <td>448025.06</td>\n",
              "      <td>448025.06</td>\n",
              "      <td>0.00</td>\n",
              "      <td>71679.93</td>\n",
              "    </tr>\n",
              "    <tr>\n",
              "      <th>6265561</th>\n",
              "      <td>797235.09</td>\n",
              "      <td>797235.09</td>\n",
              "      <td>0.00</td>\n",
              "      <td>0.00</td>\n",
              "    </tr>\n",
              "    <tr>\n",
              "      <th>6227114</th>\n",
              "      <td>609239.75</td>\n",
              "      <td>609239.75</td>\n",
              "      <td>0.00</td>\n",
              "      <td>236427.49</td>\n",
              "    </tr>\n",
              "    <tr>\n",
              "      <th>1423385</th>\n",
              "      <td>112434.49</td>\n",
              "      <td>158732.05</td>\n",
              "      <td>46297.56</td>\n",
              "      <td>473524.82</td>\n",
              "    </tr>\n",
              "    <tr>\n",
              "      <th>3489833</th>\n",
              "      <td>2684142.41</td>\n",
              "      <td>2684142.41</td>\n",
              "      <td>0.00</td>\n",
              "      <td>209538.74</td>\n",
              "    </tr>\n",
              "    <tr>\n",
              "      <th>2854667</th>\n",
              "      <td>360727.25</td>\n",
              "      <td>0.00</td>\n",
              "      <td>0.00</td>\n",
              "      <td>3017103.92</td>\n",
              "    </tr>\n",
              "    <tr>\n",
              "      <th>4347501</th>\n",
              "      <td>96474.91</td>\n",
              "      <td>96474.91</td>\n",
              "      <td>0.00</td>\n",
              "      <td>0.00</td>\n",
              "    </tr>\n",
              "    <tr>\n",
              "      <th>3579108</th>\n",
              "      <td>1954854.24</td>\n",
              "      <td>1954854.24</td>\n",
              "      <td>0.00</td>\n",
              "      <td>467323.58</td>\n",
              "    </tr>\n",
              "    <tr>\n",
              "      <th>739293</th>\n",
              "      <td>448004.86</td>\n",
              "      <td>448004.86</td>\n",
              "      <td>0.00</td>\n",
              "      <td>0.00</td>\n",
              "    </tr>\n",
              "    <tr>\n",
              "      <th>6168707</th>\n",
              "      <td>143275.81</td>\n",
              "      <td>143275.81</td>\n",
              "      <td>0.00</td>\n",
              "      <td>0.00</td>\n",
              "    </tr>\n",
              "    <tr>\n",
              "      <th>3710598</th>\n",
              "      <td>77988.42</td>\n",
              "      <td>0.00</td>\n",
              "      <td>0.00</td>\n",
              "      <td>225875.53</td>\n",
              "    </tr>\n",
              "    <tr>\n",
              "      <th>3445194</th>\n",
              "      <td>164746.91</td>\n",
              "      <td>0.00</td>\n",
              "      <td>0.00</td>\n",
              "      <td>738885.05</td>\n",
              "    </tr>\n",
              "    <tr>\n",
              "      <th>713192</th>\n",
              "      <td>345560.61</td>\n",
              "      <td>0.00</td>\n",
              "      <td>0.00</td>\n",
              "      <td>3143468.12</td>\n",
              "    </tr>\n",
              "    <tr>\n",
              "      <th>5633216</th>\n",
              "      <td>215222.27</td>\n",
              "      <td>29836948.52</td>\n",
              "      <td>30052170.79</td>\n",
              "      <td>1761431.02</td>\n",
              "    </tr>\n",
              "    <tr>\n",
              "      <th>1059510</th>\n",
              "      <td>54994.10</td>\n",
              "      <td>54994.10</td>\n",
              "      <td>0.00</td>\n",
              "      <td>0.00</td>\n",
              "    </tr>\n",
              "    <tr>\n",
              "      <th>1126419</th>\n",
              "      <td>676459.77</td>\n",
              "      <td>0.00</td>\n",
              "      <td>0.00</td>\n",
              "      <td>698294.09</td>\n",
              "    </tr>\n",
              "    <tr>\n",
              "      <th>392671</th>\n",
              "      <td>25666.89</td>\n",
              "      <td>15401141.98</td>\n",
              "      <td>15426808.87</td>\n",
              "      <td>4572661.45</td>\n",
              "    </tr>\n",
              "    <tr>\n",
              "      <th>3182792</th>\n",
              "      <td>425221.11</td>\n",
              "      <td>425221.11</td>\n",
              "      <td>0.00</td>\n",
              "      <td>1107020.73</td>\n",
              "    </tr>\n",
              "    <tr>\n",
              "      <th>3610980</th>\n",
              "      <td>32527.00</td>\n",
              "      <td>32527.00</td>\n",
              "      <td>0.00</td>\n",
              "      <td>77934.80</td>\n",
              "    </tr>\n",
              "  </tbody>\n",
              "</table>\n",
              "</div>\n",
              "      <button class=\"colab-df-convert\" onclick=\"convertToInteractive('df-a2fd20e2-0005-42fc-9058-065d7d9f028c')\"\n",
              "              title=\"Convert this dataframe to an interactive table.\"\n",
              "              style=\"display:none;\">\n",
              "        \n",
              "  <svg xmlns=\"http://www.w3.org/2000/svg\" height=\"24px\"viewBox=\"0 0 24 24\"\n",
              "       width=\"24px\">\n",
              "    <path d=\"M0 0h24v24H0V0z\" fill=\"none\"/>\n",
              "    <path d=\"M18.56 5.44l.94 2.06.94-2.06 2.06-.94-2.06-.94-.94-2.06-.94 2.06-2.06.94zm-11 1L8.5 8.5l.94-2.06 2.06-.94-2.06-.94L8.5 2.5l-.94 2.06-2.06.94zm10 10l.94 2.06.94-2.06 2.06-.94-2.06-.94-.94-2.06-.94 2.06-2.06.94z\"/><path d=\"M17.41 7.96l-1.37-1.37c-.4-.4-.92-.59-1.43-.59-.52 0-1.04.2-1.43.59L10.3 9.45l-7.72 7.72c-.78.78-.78 2.05 0 2.83L4 21.41c.39.39.9.59 1.41.59.51 0 1.02-.2 1.41-.59l7.78-7.78 2.81-2.81c.8-.78.8-2.07 0-2.86zM5.41 20L4 18.59l7.72-7.72 1.47 1.35L5.41 20z\"/>\n",
              "  </svg>\n",
              "      </button>\n",
              "      \n",
              "  <style>\n",
              "    .colab-df-container {\n",
              "      display:flex;\n",
              "      flex-wrap:wrap;\n",
              "      gap: 12px;\n",
              "    }\n",
              "\n",
              "    .colab-df-convert {\n",
              "      background-color: #E8F0FE;\n",
              "      border: none;\n",
              "      border-radius: 50%;\n",
              "      cursor: pointer;\n",
              "      display: none;\n",
              "      fill: #1967D2;\n",
              "      height: 32px;\n",
              "      padding: 0 0 0 0;\n",
              "      width: 32px;\n",
              "    }\n",
              "\n",
              "    .colab-df-convert:hover {\n",
              "      background-color: #E2EBFA;\n",
              "      box-shadow: 0px 1px 2px rgba(60, 64, 67, 0.3), 0px 1px 3px 1px rgba(60, 64, 67, 0.15);\n",
              "      fill: #174EA6;\n",
              "    }\n",
              "\n",
              "    [theme=dark] .colab-df-convert {\n",
              "      background-color: #3B4455;\n",
              "      fill: #D2E3FC;\n",
              "    }\n",
              "\n",
              "    [theme=dark] .colab-df-convert:hover {\n",
              "      background-color: #434B5C;\n",
              "      box-shadow: 0px 1px 3px 1px rgba(0, 0, 0, 0.15);\n",
              "      filter: drop-shadow(0px 1px 2px rgba(0, 0, 0, 0.3));\n",
              "      fill: #FFFFFF;\n",
              "    }\n",
              "  </style>\n",
              "\n",
              "      <script>\n",
              "        const buttonEl =\n",
              "          document.querySelector('#df-a2fd20e2-0005-42fc-9058-065d7d9f028c button.colab-df-convert');\n",
              "        buttonEl.style.display =\n",
              "          google.colab.kernel.accessAllowed ? 'block' : 'none';\n",
              "\n",
              "        async function convertToInteractive(key) {\n",
              "          const element = document.querySelector('#df-a2fd20e2-0005-42fc-9058-065d7d9f028c');\n",
              "          const dataTable =\n",
              "            await google.colab.kernel.invokeFunction('convertToInteractive',\n",
              "                                                     [key], {});\n",
              "          if (!dataTable) return;\n",
              "\n",
              "          const docLinkHtml = 'Like what you see? Visit the ' +\n",
              "            '<a target=\"_blank\" href=https://colab.research.google.com/notebooks/data_table.ipynb>data table notebook</a>'\n",
              "            + ' to learn more about interactive tables.';\n",
              "          element.innerHTML = '';\n",
              "          dataTable['output_type'] = 'display_data';\n",
              "          await google.colab.output.renderOutput(dataTable, element);\n",
              "          const docLink = document.createElement('div');\n",
              "          docLink.innerHTML = docLinkHtml;\n",
              "          element.appendChild(docLink);\n",
              "        }\n",
              "      </script>\n",
              "    </div>\n",
              "  </div>\n",
              "  "
            ],
            "text/plain": [
              "             amount  oldbalanceOrg  newbalanceOrig  oldbalanceDest\n",
              "6248334   196385.55      196385.55            0.00            0.00\n",
              "2890975    24195.86       85562.22        61366.36            0.00\n",
              "4376577  1275236.30     1275236.30            0.00            0.00\n",
              "2735160    20065.99     8956795.13      8976861.12       983238.55\n",
              "855227   1270564.34     1270564.34            0.00            0.00\n",
              "6080946  1459180.14     1459180.14            0.00      1120598.68\n",
              "5705892     1230.56    10190172.54     10191403.10      5200722.75\n",
              "4713511   131055.24           0.00            0.00       217329.46\n",
              "695414   1684039.12     1684039.12            0.00            0.00\n",
              "3459626     4373.77      104136.00        99762.23       259975.11\n",
              "3539698   175953.67       26516.00            0.00            0.00\n",
              "108879    477027.08       40195.00            0.00       652278.92\n",
              "2434767    22272.95           0.00            0.00            0.00\n",
              "2940047   255825.28         516.00            0.00       283362.91\n",
              "1090426     1456.12         337.00            0.00            0.00\n",
              "437292      9131.00        9131.00            0.00       133084.02\n",
              "2121441  2075328.73     2075328.73            0.00            0.00\n",
              "1410162    11653.98       11653.98            0.00       341465.93\n",
              "457211     60666.13           0.00            0.00       822962.11\n",
              "5965402     2732.50        6454.00         3721.50            0.00\n",
              "2801098  2312944.11     2312944.11            0.00            0.00\n",
              "3594068   639680.32      639680.32            0.00            0.00\n",
              "2215824    18240.41           0.00            0.00            0.00\n",
              "4640170    61756.82       61756.82            0.00       191770.49\n",
              "3187601    11082.16           0.00            0.00            0.00\n",
              "5563745     4348.62        4348.62            0.00            0.00\n",
              "6065306  1319703.76     1319703.76            0.00            0.00\n",
              "2116097  4354175.33     4354175.33            0.00            0.00\n",
              "6061830    73328.47       73328.47            0.00       121670.80\n",
              "4202746  2321633.57     2321633.57            0.00            0.00\n",
              "6189344  1131750.38     1131750.38            0.00       313070.53\n",
              "522656    448025.06      448025.06            0.00        71679.93\n",
              "6265561   797235.09      797235.09            0.00            0.00\n",
              "6227114   609239.75      609239.75            0.00       236427.49\n",
              "1423385   112434.49      158732.05        46297.56       473524.82\n",
              "3489833  2684142.41     2684142.41            0.00       209538.74\n",
              "2854667   360727.25           0.00            0.00      3017103.92\n",
              "4347501    96474.91       96474.91            0.00            0.00\n",
              "3579108  1954854.24     1954854.24            0.00       467323.58\n",
              "739293    448004.86      448004.86            0.00            0.00\n",
              "6168707   143275.81      143275.81            0.00            0.00\n",
              "3710598    77988.42           0.00            0.00       225875.53\n",
              "3445194   164746.91           0.00            0.00       738885.05\n",
              "713192    345560.61           0.00            0.00      3143468.12\n",
              "5633216   215222.27    29836948.52     30052170.79      1761431.02\n",
              "1059510    54994.10       54994.10            0.00            0.00\n",
              "1126419   676459.77           0.00            0.00       698294.09\n",
              "392671     25666.89    15401141.98     15426808.87      4572661.45\n",
              "3182792   425221.11      425221.11            0.00      1107020.73\n",
              "3610980    32527.00       32527.00            0.00        77934.80"
            ]
          },
          "metadata": {},
          "execution_count": 99
        }
      ],
      "source": [
        "X"
      ]
    },
    {
      "cell_type": "code",
      "execution_count": null,
      "metadata": {
        "id": "YByJVC778x5o"
      },
      "outputs": [],
      "source": [
        "from sklearn.model_selection import cross_val_score,train_test_split\n",
        "X_train,X_test,Y_train,Y_test=train_test_split(X, Y, train_size=0.8)\n"
      ]
    },
    {
      "cell_type": "markdown",
      "source": [
        "### Logistic Regression"
      ],
      "metadata": {
        "id": "T5L2S-qcCJE5"
      }
    },
    {
      "cell_type": "code",
      "execution_count": null,
      "metadata": {
        "id": "yPZflkmo8x5p",
        "outputId": "923c14ad-1042-49ea-d391-14943dc22749",
        "colab": {
          "base_uri": "https://localhost:8080/"
        }
      },
      "outputs": [
        {
          "output_type": "stream",
          "name": "stdout",
          "text": [
            "LogisticRegression()\n",
            "model score:: 1.0\n",
            "[[1.76240522e-01 8.23759478e-01]\n",
            " [1.00000000e+00 2.89535811e-12]\n",
            " [0.00000000e+00 1.00000000e+00]\n",
            " [1.00000000e+00 2.30556879e-79]\n",
            " [0.00000000e+00 1.00000000e+00]\n",
            " [1.00000000e+00 0.00000000e+00]\n",
            " [0.00000000e+00 1.00000000e+00]\n",
            " [0.00000000e+00 1.00000000e+00]\n",
            " [1.00000000e+00 0.00000000e+00]\n",
            " [0.00000000e+00 1.00000000e+00]]\n",
            "Confusion Matrix\n",
            "[[3 0]\n",
            " [1 6]]\n"
          ]
        }
      ],
      "source": [
        "from sklearn import preprocessing\n",
        "from sklearn import utils\n",
        "\n",
        "model = LogisticRegression()\n",
        "print(model)\n",
        "\n",
        "model = model.fit(X_train,Y_train )\n",
        "ms = model.score(X_train,Y_train)\n",
        "print(\"model score::\",ms)\n",
        "\n",
        "probability = model.predict_proba(X_test)\n",
        "print(probability)\n",
        "#print(\"*\" * 100)\n",
        "print(\"Confusion Matrix\")\n",
        "predicted = model.predict(X_test)\n",
        "print(metrics.confusion_matrix(Y_test , predicted))"
      ]
    },
    {
      "cell_type": "code",
      "execution_count": null,
      "metadata": {
        "id": "jGM3drBH8x5p",
        "outputId": "fabc0d5e-a58b-4431-bf6f-43d15a7ab623",
        "colab": {
          "base_uri": "https://localhost:8080/"
        }
      },
      "outputs": [
        {
          "output_type": "stream",
          "name": "stdout",
          "text": [
            "              precision    recall  f1-score   support\n",
            "\n",
            "           0       0.75      1.00      0.86         3\n",
            "           1       1.00      0.86      0.92         7\n",
            "\n",
            "    accuracy                           0.90        10\n",
            "   macro avg       0.88      0.93      0.89        10\n",
            "weighted avg       0.93      0.90      0.90        10\n",
            "\n"
          ]
        }
      ],
      "source": [
        "print(metrics.classification_report(Y_test, predicted))\n"
      ]
    },
    {
      "cell_type": "markdown",
      "source": [
        "Heatmap of Confusion Matrix"
      ],
      "metadata": {
        "id": "b9oN1u7SCS8j"
      }
    },
    {
      "cell_type": "code",
      "execution_count": null,
      "metadata": {
        "id": "Dcu5WNZ08x5q",
        "outputId": "1042d776-3dc8-4f51-add0-48e6f0ad6878",
        "colab": {
          "base_uri": "https://localhost:8080/",
          "height": 313
        }
      },
      "outputs": [
        {
          "output_type": "display_data",
          "data": {
            "image/png": "[encoded data removed]",
            "text/plain": [
              "<Figure size 360x360 with 2 Axes>"
            ]
          },
          "metadata": {
            "needs_background": "light"
          }
        }
      ],
      "source": [
        "import seaborn as sns\n",
        "cm = metrics.confusion_matrix(Y_test , predicted)\n",
        "plt.figure(figsize=(5,5))\n",
        "sns.heatmap(cm, annot=True, fmt=\".0f\", linewidths=.8, square = True, cmap = 'Greens_r');\n",
        "plt.ylabel('Actual label');\n",
        "plt.xlabel('Predicted label');\n",
        "\n",
        "all_sample_title = 'Accuracy Score:{:0.3f}'.format(ms)\n",
        "plt.title(all_sample_title, size = 15);"
      ]
    },
    {
      "cell_type": "markdown",
      "source": [
        "### ROC Curve"
      ],
      "metadata": {
        "id": "hB7nHSblChxt"
      }
    },
    {
      "cell_type": "code",
      "execution_count": null,
      "metadata": {
        "id": "J3cZ75mw8x5q",
        "outputId": "4d068925-8f95-431f-b4a4-9b39cd44ba6b",
        "colab": {
          "base_uri": "https://localhost:8080/",
          "height": 296
        }
      },
      "outputs": [
        {
          "output_type": "stream",
          "name": "stdout",
          "text": [
            "1.0\n"
          ]
        },
        {
          "output_type": "display_data",
          "data": {
            "image/png": "[encoded data removed]",
            "text/plain": [
              "<Figure size 432x288 with 1 Axes>"
            ]
          },
          "metadata": {
            "needs_background": "light"
          }
        }
      ],
      "source": [
        "from sklearn import metrics\n",
        "preds = model.predict_proba(X_test)[:,1]\n",
        "fpr, tpr, _ = metrics.roc_curve(Y_test, preds)\n",
        "auc = metrics.auc(fpr,tpr)\n",
        "print(auc)\n",
        "plt.figure()\n",
        "fpr\n",
        "lw = 2\n",
        "plt.plot(fpr, tpr, color='darkorange', lw=lw, label='ROC curve (area = %0.2f)' % auc)\n",
        "plt.plot([0, 1], [0, 1], color='navy', lw=lw, linestyle='--')\n",
        "plt.xlim([0.0, 1.0])\n",
        "plt.ylim([0.0, 1.05])\n",
        "plt.xlabel('False Positive Rate')\n",
        "plt.ylabel('True Positive Rate')\n",
        "plt.legend(loc=\"lower right\")\n",
        "plt.show()\n"
      ]
    },
    {
      "cell_type": "markdown",
      "source": [
        "### SVM"
      ],
      "metadata": {
        "id": "lw6yjCn9BsRu"
      }
    },
    {
      "cell_type": "code",
      "execution_count": null,
      "metadata": {
        "id": "CjCp9rUm8x5r",
        "colab": {
          "base_uri": "https://localhost:8080/"
        },
        "outputId": "cc3e1a0e-b1fa-4a30-dda7-ba20a6ec5ce0"
      },
      "outputs": [
        {
          "output_type": "stream",
          "name": "stdout",
          "text": [
            "Your Model Accuracy is 1.0\n"
          ]
        }
      ],
      "source": [
        "from sklearn import svm\n",
        "from sklearn.metrics import accuracy_score\n",
        "C = 1.0 # SVM regularization parameter\n",
        "\n",
        "svc = svm.SVC(kernel='linear', C=1,gamma=1).fit(X, Y)\n",
        "predicted= svc.predict(X)\n",
        "score = accuracy_score(Y,predicted)\n",
        "print(\"Your Model Accuracy is\", score)\n",
        "\n"
      ]
    },
    {
      "cell_type": "code",
      "execution_count": null,
      "metadata": {
        "id": "GrJT-Px58x5s",
        "colab": {
          "base_uri": "https://localhost:8080/",
          "height": 295
        },
        "outputId": "83474941-8893-408d-c371-f5242c2273bb"
      },
      "outputs": [
        {
          "output_type": "display_data",
          "data": {
            "image/png": "[encoded data removed]",
            "text/plain": [
              "<Figure size 432x288 with 1 Axes>"
            ]
          },
          "metadata": {
            "needs_background": "light"
          }
        }
      ],
      "source": [
        "plt.scatter(X.iloc[:,0], X.iloc[:, 1], c=Y, cmap=plt.cm.rainbow_r)\n",
        "plt.xlabel('amount')\n",
        "plt.ylabel('oldbalanceOrg')\n",
        "plt.title('SVC with linear , After Filter')\n",
        "plt.show()\n"
      ]
    },
    {
      "cell_type": "markdown",
      "source": [
        "## Conclusion: \n",
        " As target variable is discrete binary it is better to go with logistic,SVM and with some classifications algorithms.the dataset is huge and distribution of target variable is not uniform .so i took a sample and used smote for oversampling for uniform distribution of target variable.As usual performed modelling."
      ],
      "metadata": {
        "id": "D5QK-RRtcmq2"
      }
    }
  ]
}