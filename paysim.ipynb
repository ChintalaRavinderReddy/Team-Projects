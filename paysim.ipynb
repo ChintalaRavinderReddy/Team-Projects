{
  "nbformat": 4,
  "nbformat_minor": 0,
  "metadata": {
    "colab": {
      "name": "paysim.ipynb",
      "provenance": [],
      "collapsed_sections": []
    },
    "kernelspec": {
      "name": "python3",
      "display_name": "Python 3"
    },
    "language_info": {
      "name": "python"
    }
  },
  "cells": [
    {
      "cell_type": "code",
      "metadata": {
        "id": "fIgP4B9TthUQ"
      },
      "source": [
        ""
      ],
      "execution_count": null,
      "outputs": []
    },
    {
      "cell_type": "code",
      "metadata": {
        "colab": {
          "base_uri": "https://localhost:8080/"
        },
        "id": "u8sqgqYTtpkj",
        "outputId": "584c3b96-e8a2-4b3d-e05e-06157108d0ea"
      },
      "source": [
        "from google.colab import drive\n",
        "drive.mount('/content/drive')"
      ],
      "execution_count": 1,
      "outputs": [
        {
          "output_type": "stream",
          "name": "stdout",
          "text": [
            "Mounted at /content/drive\n"
          ]
        }
      ]
    },
    {
      "cell_type": "code",
      "metadata": {
        "id": "fIOC03bntzhR"
      },
      "source": [
        "# Importing libraries\n",
        "import pandas as pd\n",
        "import numpy as np\n",
        "import matplotlib.pyplot as plt\n",
        "import seaborn as sns"
      ],
      "execution_count": 2,
      "outputs": []
    },
    {
      "cell_type": "code",
      "metadata": {
        "colab": {
          "base_uri": "https://localhost:8080/",
          "height": 383
        },
        "id": "Sju0Lf7ZuFp-",
        "outputId": "b4ff4f01-bef1-4fac-bdf3-124b3f9e1354"
      },
      "source": [
        "#Now, Let us import the dataset\n",
        "\n",
        "data=pd.read_csv(\"/content/drive/MyDrive/paysim/paysimdataset.csv\")\n",
        "data.head(10)"
      ],
      "execution_count": 3,
      "outputs": [
        {
          "output_type": "execute_result",
          "data": {
            "text/html": [
              "<div>\n",
              "<style scoped>\n",
              "    .dataframe tbody tr th:only-of-type {\n",
              "        vertical-align: middle;\n",
              "    }\n",
              "\n",
              "    .dataframe tbody tr th {\n",
              "        vertical-align: top;\n",
              "    }\n",
              "\n",
              "    .dataframe thead th {\n",
              "        text-align: right;\n",
              "    }\n",
              "</style>\n",
              "<table border=\"1\" class=\"dataframe\">\n",
              "  <thead>\n",
              "    <tr style=\"text-align: right;\">\n",
              "      <th></th>\n",
              "      <th>step</th>\n",
              "      <th>type</th>\n",
              "      <th>amount</th>\n",
              "      <th>nameOrig</th>\n",
              "      <th>oldbalanceOrg</th>\n",
              "      <th>newbalanceOrig</th>\n",
              "      <th>nameDest</th>\n",
              "      <th>oldbalanceDest</th>\n",
              "      <th>newbalanceDest</th>\n",
              "      <th>isFraud</th>\n",
              "      <th>isFlaggedFraud</th>\n",
              "    </tr>\n",
              "  </thead>\n",
              "  <tbody>\n",
              "    <tr>\n",
              "      <th>0</th>\n",
              "      <td>1</td>\n",
              "      <td>PAYMENT</td>\n",
              "      <td>9839.64</td>\n",
              "      <td>C1231006815</td>\n",
              "      <td>170136.00</td>\n",
              "      <td>160296.36</td>\n",
              "      <td>M1979787155</td>\n",
              "      <td>0.0</td>\n",
              "      <td>0.00</td>\n",
              "      <td>0</td>\n",
              "      <td>0</td>\n",
              "    </tr>\n",
              "    <tr>\n",
              "      <th>1</th>\n",
              "      <td>1</td>\n",
              "      <td>PAYMENT</td>\n",
              "      <td>1864.28</td>\n",
              "      <td>C1666544295</td>\n",
              "      <td>21249.00</td>\n",
              "      <td>19384.72</td>\n",
              "      <td>M2044282225</td>\n",
              "      <td>0.0</td>\n",
              "      <td>0.00</td>\n",
              "      <td>0</td>\n",
              "      <td>0</td>\n",
              "    </tr>\n",
              "    <tr>\n",
              "      <th>2</th>\n",
              "      <td>1</td>\n",
              "      <td>TRANSFER</td>\n",
              "      <td>181.00</td>\n",
              "      <td>C1305486145</td>\n",
              "      <td>181.00</td>\n",
              "      <td>0.00</td>\n",
              "      <td>C553264065</td>\n",
              "      <td>0.0</td>\n",
              "      <td>0.00</td>\n",
              "      <td>1</td>\n",
              "      <td>0</td>\n",
              "    </tr>\n",
              "    <tr>\n",
              "      <th>3</th>\n",
              "      <td>1</td>\n",
              "      <td>CASH_OUT</td>\n",
              "      <td>181.00</td>\n",
              "      <td>C840083671</td>\n",
              "      <td>181.00</td>\n",
              "      <td>0.00</td>\n",
              "      <td>C38997010</td>\n",
              "      <td>21182.0</td>\n",
              "      <td>0.00</td>\n",
              "      <td>1</td>\n",
              "      <td>0</td>\n",
              "    </tr>\n",
              "    <tr>\n",
              "      <th>4</th>\n",
              "      <td>1</td>\n",
              "      <td>PAYMENT</td>\n",
              "      <td>11668.14</td>\n",
              "      <td>C2048537720</td>\n",
              "      <td>41554.00</td>\n",
              "      <td>29885.86</td>\n",
              "      <td>M1230701703</td>\n",
              "      <td>0.0</td>\n",
              "      <td>0.00</td>\n",
              "      <td>0</td>\n",
              "      <td>0</td>\n",
              "    </tr>\n",
              "    <tr>\n",
              "      <th>5</th>\n",
              "      <td>1</td>\n",
              "      <td>PAYMENT</td>\n",
              "      <td>7817.71</td>\n",
              "      <td>C90045638</td>\n",
              "      <td>53860.00</td>\n",
              "      <td>46042.29</td>\n",
              "      <td>M573487274</td>\n",
              "      <td>0.0</td>\n",
              "      <td>0.00</td>\n",
              "      <td>0</td>\n",
              "      <td>0</td>\n",
              "    </tr>\n",
              "    <tr>\n",
              "      <th>6</th>\n",
              "      <td>1</td>\n",
              "      <td>PAYMENT</td>\n",
              "      <td>7107.77</td>\n",
              "      <td>C154988899</td>\n",
              "      <td>183195.00</td>\n",
              "      <td>176087.23</td>\n",
              "      <td>M408069119</td>\n",
              "      <td>0.0</td>\n",
              "      <td>0.00</td>\n",
              "      <td>0</td>\n",
              "      <td>0</td>\n",
              "    </tr>\n",
              "    <tr>\n",
              "      <th>7</th>\n",
              "      <td>1</td>\n",
              "      <td>PAYMENT</td>\n",
              "      <td>7861.64</td>\n",
              "      <td>C1912850431</td>\n",
              "      <td>176087.23</td>\n",
              "      <td>168225.59</td>\n",
              "      <td>M633326333</td>\n",
              "      <td>0.0</td>\n",
              "      <td>0.00</td>\n",
              "      <td>0</td>\n",
              "      <td>0</td>\n",
              "    </tr>\n",
              "    <tr>\n",
              "      <th>8</th>\n",
              "      <td>1</td>\n",
              "      <td>PAYMENT</td>\n",
              "      <td>4024.36</td>\n",
              "      <td>C1265012928</td>\n",
              "      <td>2671.00</td>\n",
              "      <td>0.00</td>\n",
              "      <td>M1176932104</td>\n",
              "      <td>0.0</td>\n",
              "      <td>0.00</td>\n",
              "      <td>0</td>\n",
              "      <td>0</td>\n",
              "    </tr>\n",
              "    <tr>\n",
              "      <th>9</th>\n",
              "      <td>1</td>\n",
              "      <td>DEBIT</td>\n",
              "      <td>5337.77</td>\n",
              "      <td>C712410124</td>\n",
              "      <td>41720.00</td>\n",
              "      <td>36382.23</td>\n",
              "      <td>C195600860</td>\n",
              "      <td>41898.0</td>\n",
              "      <td>40348.79</td>\n",
              "      <td>0</td>\n",
              "      <td>0</td>\n",
              "    </tr>\n",
              "  </tbody>\n",
              "</table>\n",
              "</div>"
            ],
            "text/plain": [
              "   step      type    amount  ... newbalanceDest  isFraud  isFlaggedFraud\n",
              "0     1   PAYMENT   9839.64  ...           0.00        0               0\n",
              "1     1   PAYMENT   1864.28  ...           0.00        0               0\n",
              "2     1  TRANSFER    181.00  ...           0.00        1               0\n",
              "3     1  CASH_OUT    181.00  ...           0.00        1               0\n",
              "4     1   PAYMENT  11668.14  ...           0.00        0               0\n",
              "5     1   PAYMENT   7817.71  ...           0.00        0               0\n",
              "6     1   PAYMENT   7107.77  ...           0.00        0               0\n",
              "7     1   PAYMENT   7861.64  ...           0.00        0               0\n",
              "8     1   PAYMENT   4024.36  ...           0.00        0               0\n",
              "9     1     DEBIT   5337.77  ...       40348.79        0               0\n",
              "\n",
              "[10 rows x 11 columns]"
            ]
          },
          "metadata": {},
          "execution_count": 3
        }
      ]
    },
    {
      "cell_type": "code",
      "metadata": {
        "id": "1S2bTtByuLoR"
      },
      "source": [
        "# let us create another dataset\n",
        "data1=data"
      ],
      "execution_count": 4,
      "outputs": []
    },
    {
      "cell_type": "code",
      "metadata": {
        "colab": {
          "base_uri": "https://localhost:8080/"
        },
        "id": "gNo7kJYguqEO",
        "outputId": "f7cc748c-c4c6-4bf0-87cb-d0536d909fd9"
      },
      "source": [
        "data1.info()\n",
        "#data1.dtypes"
      ],
      "execution_count": 5,
      "outputs": [
        {
          "output_type": "stream",
          "name": "stdout",
          "text": [
            "<class 'pandas.core.frame.DataFrame'>\n",
            "RangeIndex: 6362620 entries, 0 to 6362619\n",
            "Data columns (total 11 columns):\n",
            " #   Column          Dtype  \n",
            "---  ------          -----  \n",
            " 0   step            int64  \n",
            " 1   type            object \n",
            " 2   amount          float64\n",
            " 3   nameOrig        object \n",
            " 4   oldbalanceOrg   float64\n",
            " 5   newbalanceOrig  float64\n",
            " 6   nameDest        object \n",
            " 7   oldbalanceDest  float64\n",
            " 8   newbalanceDest  float64\n",
            " 9   isFraud         int64  \n",
            " 10  isFlaggedFraud  int64  \n",
            "dtypes: float64(5), int64(3), object(3)\n",
            "memory usage: 534.0+ MB\n"
          ]
        }
      ]
    },
    {
      "cell_type": "code",
      "metadata": {
        "colab": {
          "base_uri": "https://localhost:8080/",
          "height": 320
        },
        "id": "3FbozBHQurIY",
        "outputId": "f46fe566-7d33-4fd0-feff-dbe044c81695"
      },
      "source": [
        "# Descriptive statistics\n",
        "data.describe(percentiles=[0.25, 0.5, 0.75, 0.9, 0.95, 0.99]).T"
      ],
      "execution_count": 6,
      "outputs": [
        {
          "output_type": "execute_result",
          "data": {
            "text/html": [
              "<div>\n",
              "<style scoped>\n",
              "    .dataframe tbody tr th:only-of-type {\n",
              "        vertical-align: middle;\n",
              "    }\n",
              "\n",
              "    .dataframe tbody tr th {\n",
              "        vertical-align: top;\n",
              "    }\n",
              "\n",
              "    .dataframe thead th {\n",
              "        text-align: right;\n",
              "    }\n",
              "</style>\n",
              "<table border=\"1\" class=\"dataframe\">\n",
              "  <thead>\n",
              "    <tr style=\"text-align: right;\">\n",
              "      <th></th>\n",
              "      <th>count</th>\n",
              "      <th>mean</th>\n",
              "      <th>std</th>\n",
              "      <th>min</th>\n",
              "      <th>25%</th>\n",
              "      <th>50%</th>\n",
              "      <th>75%</th>\n",
              "      <th>90%</th>\n",
              "      <th>95%</th>\n",
              "      <th>99%</th>\n",
              "      <th>max</th>\n",
              "    </tr>\n",
              "  </thead>\n",
              "  <tbody>\n",
              "    <tr>\n",
              "      <th>step</th>\n",
              "      <td>6362620.0</td>\n",
              "      <td>2.433972e+02</td>\n",
              "      <td>1.423320e+02</td>\n",
              "      <td>1.0</td>\n",
              "      <td>156.00</td>\n",
              "      <td>239.000</td>\n",
              "      <td>3.350000e+02</td>\n",
              "      <td>399.000</td>\n",
              "      <td>4.900000e+02</td>\n",
              "      <td>6.810000e+02</td>\n",
              "      <td>7.430000e+02</td>\n",
              "    </tr>\n",
              "    <tr>\n",
              "      <th>amount</th>\n",
              "      <td>6362620.0</td>\n",
              "      <td>1.798619e+05</td>\n",
              "      <td>6.038582e+05</td>\n",
              "      <td>0.0</td>\n",
              "      <td>13389.57</td>\n",
              "      <td>74871.940</td>\n",
              "      <td>2.087215e+05</td>\n",
              "      <td>365423.309</td>\n",
              "      <td>5.186342e+05</td>\n",
              "      <td>1.615979e+06</td>\n",
              "      <td>9.244552e+07</td>\n",
              "    </tr>\n",
              "    <tr>\n",
              "      <th>oldbalanceOrg</th>\n",
              "      <td>6362620.0</td>\n",
              "      <td>8.338831e+05</td>\n",
              "      <td>2.888243e+06</td>\n",
              "      <td>0.0</td>\n",
              "      <td>0.00</td>\n",
              "      <td>14208.000</td>\n",
              "      <td>1.073152e+05</td>\n",
              "      <td>1822508.289</td>\n",
              "      <td>5.823702e+06</td>\n",
              "      <td>1.602726e+07</td>\n",
              "      <td>5.958504e+07</td>\n",
              "    </tr>\n",
              "    <tr>\n",
              "      <th>newbalanceOrig</th>\n",
              "      <td>6362620.0</td>\n",
              "      <td>8.551137e+05</td>\n",
              "      <td>2.924049e+06</td>\n",
              "      <td>0.0</td>\n",
              "      <td>0.00</td>\n",
              "      <td>0.000</td>\n",
              "      <td>1.442584e+05</td>\n",
              "      <td>1970344.793</td>\n",
              "      <td>5.980262e+06</td>\n",
              "      <td>1.617616e+07</td>\n",
              "      <td>4.958504e+07</td>\n",
              "    </tr>\n",
              "    <tr>\n",
              "      <th>oldbalanceDest</th>\n",
              "      <td>6362620.0</td>\n",
              "      <td>1.100702e+06</td>\n",
              "      <td>3.399180e+06</td>\n",
              "      <td>0.0</td>\n",
              "      <td>0.00</td>\n",
              "      <td>132705.665</td>\n",
              "      <td>9.430367e+05</td>\n",
              "      <td>2914266.669</td>\n",
              "      <td>5.147230e+06</td>\n",
              "      <td>1.237182e+07</td>\n",
              "      <td>3.560159e+08</td>\n",
              "    </tr>\n",
              "    <tr>\n",
              "      <th>newbalanceDest</th>\n",
              "      <td>6362620.0</td>\n",
              "      <td>1.224996e+06</td>\n",
              "      <td>3.674129e+06</td>\n",
              "      <td>0.0</td>\n",
              "      <td>0.00</td>\n",
              "      <td>214661.440</td>\n",
              "      <td>1.111909e+06</td>\n",
              "      <td>3194869.671</td>\n",
              "      <td>5.515716e+06</td>\n",
              "      <td>1.313787e+07</td>\n",
              "      <td>3.561793e+08</td>\n",
              "    </tr>\n",
              "    <tr>\n",
              "      <th>isFraud</th>\n",
              "      <td>6362620.0</td>\n",
              "      <td>1.290820e-03</td>\n",
              "      <td>3.590480e-02</td>\n",
              "      <td>0.0</td>\n",
              "      <td>0.00</td>\n",
              "      <td>0.000</td>\n",
              "      <td>0.000000e+00</td>\n",
              "      <td>0.000</td>\n",
              "      <td>0.000000e+00</td>\n",
              "      <td>0.000000e+00</td>\n",
              "      <td>1.000000e+00</td>\n",
              "    </tr>\n",
              "    <tr>\n",
              "      <th>isFlaggedFraud</th>\n",
              "      <td>6362620.0</td>\n",
              "      <td>2.514687e-06</td>\n",
              "      <td>1.585775e-03</td>\n",
              "      <td>0.0</td>\n",
              "      <td>0.00</td>\n",
              "      <td>0.000</td>\n",
              "      <td>0.000000e+00</td>\n",
              "      <td>0.000</td>\n",
              "      <td>0.000000e+00</td>\n",
              "      <td>0.000000e+00</td>\n",
              "      <td>1.000000e+00</td>\n",
              "    </tr>\n",
              "  </tbody>\n",
              "</table>\n",
              "</div>"
            ],
            "text/plain": [
              "                    count          mean  ...           99%           max\n",
              "step            6362620.0  2.433972e+02  ...  6.810000e+02  7.430000e+02\n",
              "amount          6362620.0  1.798619e+05  ...  1.615979e+06  9.244552e+07\n",
              "oldbalanceOrg   6362620.0  8.338831e+05  ...  1.602726e+07  5.958504e+07\n",
              "newbalanceOrig  6362620.0  8.551137e+05  ...  1.617616e+07  4.958504e+07\n",
              "oldbalanceDest  6362620.0  1.100702e+06  ...  1.237182e+07  3.560159e+08\n",
              "newbalanceDest  6362620.0  1.224996e+06  ...  1.313787e+07  3.561793e+08\n",
              "isFraud         6362620.0  1.290820e-03  ...  0.000000e+00  1.000000e+00\n",
              "isFlaggedFraud  6362620.0  2.514687e-06  ...  0.000000e+00  1.000000e+00\n",
              "\n",
              "[8 rows x 11 columns]"
            ]
          },
          "metadata": {},
          "execution_count": 6
        }
      ]
    },
    {
      "cell_type": "code",
      "metadata": {
        "colab": {
          "base_uri": "https://localhost:8080/"
        },
        "id": "LmVKJrO7u_Pn",
        "outputId": "dfef0930-860f-4f6e-95b6-2c318619993c"
      },
      "source": [
        "### Finding Missing values or NaN values\n",
        "\n",
        "#data1.isnull().sum()\n",
        "data1.isna().sum()"
      ],
      "execution_count": 7,
      "outputs": [
        {
          "output_type": "execute_result",
          "data": {
            "text/plain": [
              "step              0\n",
              "type              0\n",
              "amount            0\n",
              "nameOrig          0\n",
              "oldbalanceOrg     0\n",
              "newbalanceOrig    0\n",
              "nameDest          0\n",
              "oldbalanceDest    0\n",
              "newbalanceDest    0\n",
              "isFraud           0\n",
              "isFlaggedFraud    0\n",
              "dtype: int64"
            ]
          },
          "metadata": {},
          "execution_count": 7
        }
      ]
    },
    {
      "cell_type": "code",
      "metadata": {
        "colab": {
          "base_uri": "https://localhost:8080/",
          "height": 300
        },
        "id": "rJWBRMu6vk4D",
        "outputId": "2ec19039-d5eb-4b1a-bb83-e8fe2aa09301"
      },
      "source": [
        "data1.corr()"
      ],
      "execution_count": 8,
      "outputs": [
        {
          "output_type": "execute_result",
          "data": {
            "text/html": [
              "<div>\n",
              "<style scoped>\n",
              "    .dataframe tbody tr th:only-of-type {\n",
              "        vertical-align: middle;\n",
              "    }\n",
              "\n",
              "    .dataframe tbody tr th {\n",
              "        vertical-align: top;\n",
              "    }\n",
              "\n",
              "    .dataframe thead th {\n",
              "        text-align: right;\n",
              "    }\n",
              "</style>\n",
              "<table border=\"1\" class=\"dataframe\">\n",
              "  <thead>\n",
              "    <tr style=\"text-align: right;\">\n",
              "      <th></th>\n",
              "      <th>step</th>\n",
              "      <th>amount</th>\n",
              "      <th>oldbalanceOrg</th>\n",
              "      <th>newbalanceOrig</th>\n",
              "      <th>oldbalanceDest</th>\n",
              "      <th>newbalanceDest</th>\n",
              "      <th>isFraud</th>\n",
              "      <th>isFlaggedFraud</th>\n",
              "    </tr>\n",
              "  </thead>\n",
              "  <tbody>\n",
              "    <tr>\n",
              "      <th>step</th>\n",
              "      <td>1.000000</td>\n",
              "      <td>0.022373</td>\n",
              "      <td>-0.010058</td>\n",
              "      <td>-0.010299</td>\n",
              "      <td>0.027665</td>\n",
              "      <td>0.025888</td>\n",
              "      <td>0.031578</td>\n",
              "      <td>0.003277</td>\n",
              "    </tr>\n",
              "    <tr>\n",
              "      <th>amount</th>\n",
              "      <td>0.022373</td>\n",
              "      <td>1.000000</td>\n",
              "      <td>-0.002762</td>\n",
              "      <td>-0.007861</td>\n",
              "      <td>0.294137</td>\n",
              "      <td>0.459304</td>\n",
              "      <td>0.076688</td>\n",
              "      <td>0.012295</td>\n",
              "    </tr>\n",
              "    <tr>\n",
              "      <th>oldbalanceOrg</th>\n",
              "      <td>-0.010058</td>\n",
              "      <td>-0.002762</td>\n",
              "      <td>1.000000</td>\n",
              "      <td>0.998803</td>\n",
              "      <td>0.066243</td>\n",
              "      <td>0.042029</td>\n",
              "      <td>0.010154</td>\n",
              "      <td>0.003835</td>\n",
              "    </tr>\n",
              "    <tr>\n",
              "      <th>newbalanceOrig</th>\n",
              "      <td>-0.010299</td>\n",
              "      <td>-0.007861</td>\n",
              "      <td>0.998803</td>\n",
              "      <td>1.000000</td>\n",
              "      <td>0.067812</td>\n",
              "      <td>0.041837</td>\n",
              "      <td>-0.008148</td>\n",
              "      <td>0.003776</td>\n",
              "    </tr>\n",
              "    <tr>\n",
              "      <th>oldbalanceDest</th>\n",
              "      <td>0.027665</td>\n",
              "      <td>0.294137</td>\n",
              "      <td>0.066243</td>\n",
              "      <td>0.067812</td>\n",
              "      <td>1.000000</td>\n",
              "      <td>0.976569</td>\n",
              "      <td>-0.005885</td>\n",
              "      <td>-0.000513</td>\n",
              "    </tr>\n",
              "    <tr>\n",
              "      <th>newbalanceDest</th>\n",
              "      <td>0.025888</td>\n",
              "      <td>0.459304</td>\n",
              "      <td>0.042029</td>\n",
              "      <td>0.041837</td>\n",
              "      <td>0.976569</td>\n",
              "      <td>1.000000</td>\n",
              "      <td>0.000535</td>\n",
              "      <td>-0.000529</td>\n",
              "    </tr>\n",
              "    <tr>\n",
              "      <th>isFraud</th>\n",
              "      <td>0.031578</td>\n",
              "      <td>0.076688</td>\n",
              "      <td>0.010154</td>\n",
              "      <td>-0.008148</td>\n",
              "      <td>-0.005885</td>\n",
              "      <td>0.000535</td>\n",
              "      <td>1.000000</td>\n",
              "      <td>0.044109</td>\n",
              "    </tr>\n",
              "    <tr>\n",
              "      <th>isFlaggedFraud</th>\n",
              "      <td>0.003277</td>\n",
              "      <td>0.012295</td>\n",
              "      <td>0.003835</td>\n",
              "      <td>0.003776</td>\n",
              "      <td>-0.000513</td>\n",
              "      <td>-0.000529</td>\n",
              "      <td>0.044109</td>\n",
              "      <td>1.000000</td>\n",
              "    </tr>\n",
              "  </tbody>\n",
              "</table>\n",
              "</div>"
            ],
            "text/plain": [
              "                    step    amount  ...   isFraud  isFlaggedFraud\n",
              "step            1.000000  0.022373  ...  0.031578        0.003277\n",
              "amount          0.022373  1.000000  ...  0.076688        0.012295\n",
              "oldbalanceOrg  -0.010058 -0.002762  ...  0.010154        0.003835\n",
              "newbalanceOrig -0.010299 -0.007861  ... -0.008148        0.003776\n",
              "oldbalanceDest  0.027665  0.294137  ... -0.005885       -0.000513\n",
              "newbalanceDest  0.025888  0.459304  ...  0.000535       -0.000529\n",
              "isFraud         0.031578  0.076688  ...  1.000000        0.044109\n",
              "isFlaggedFraud  0.003277  0.012295  ...  0.044109        1.000000\n",
              "\n",
              "[8 rows x 8 columns]"
            ]
          },
          "metadata": {},
          "execution_count": 8
        }
      ]
    },
    {
      "cell_type": "code",
      "metadata": {
        "colab": {
          "base_uri": "https://localhost:8080/",
          "height": 53
        },
        "id": "eJnZbpYbv2B6",
        "outputId": "8df450e6-ac1d-4c47-af90-fe3c68cea40b"
      },
      "source": [
        "# Let's turn non-numerical values into numbers\n",
        "from sklearn.preprocessing import LabelEncoder\n",
        "label_encoder = LabelEncoder()\n",
        "\n",
        "data1 = data1.apply(label_encoder.fit_transform)\n",
        "\n",
        "\n",
        "\n",
        "'''for label, content in data1.items():\n",
        "    if not pd.api.types.is_numeric_dtype(content):\n",
        "        data1[label] = pd.Categorical(content).codes+1\n",
        "\n",
        "data1.head(10)'''\n",
        "\n",
        "\n",
        "'''### Converting useful categorical data into numeric data by creating dummies\n",
        "\n",
        "dummy_type=pd.get_dummies(data1['type'])\n",
        "dummy_type.info()\n",
        "\n",
        "data1=pd.concat([data2,dummy_type],axis=1)\n",
        "\n",
        "data1.head(10)'''"
      ],
      "execution_count": 9,
      "outputs": [
        {
          "output_type": "execute_result",
          "data": {
            "application/vnd.google.colaboratory.intrinsic+json": {
              "type": "string"
            },
            "text/plain": [
              "\"### Converting useful categorical data into numeric data by creating dummies\\n\\ndummy_type=pd.get_dummies(data1['type'])\\ndummy_type.info()\\n\\ndata1=pd.concat([data2,dummy_type],axis=1)\\n\\ndata1.head(10)\""
            ]
          },
          "metadata": {},
          "execution_count": 9
        }
      ]
    },
    {
      "cell_type": "code",
      "metadata": {
        "colab": {
          "base_uri": "https://localhost:8080/",
          "height": 383
        },
        "id": "sCmArqJJwZ7q",
        "outputId": "a1ac9d59-2d8b-4420-e02c-b2003ab8ce29"
      },
      "source": [
        "data1.head(10)"
      ],
      "execution_count": 10,
      "outputs": [
        {
          "output_type": "execute_result",
          "data": {
            "text/html": [
              "<div>\n",
              "<style scoped>\n",
              "    .dataframe tbody tr th:only-of-type {\n",
              "        vertical-align: middle;\n",
              "    }\n",
              "\n",
              "    .dataframe tbody tr th {\n",
              "        vertical-align: top;\n",
              "    }\n",
              "\n",
              "    .dataframe thead th {\n",
              "        text-align: right;\n",
              "    }\n",
              "</style>\n",
              "<table border=\"1\" class=\"dataframe\">\n",
              "  <thead>\n",
              "    <tr style=\"text-align: right;\">\n",
              "      <th></th>\n",
              "      <th>step</th>\n",
              "      <th>type</th>\n",
              "      <th>amount</th>\n",
              "      <th>nameOrig</th>\n",
              "      <th>oldbalanceOrg</th>\n",
              "      <th>newbalanceOrig</th>\n",
              "      <th>nameDest</th>\n",
              "      <th>oldbalanceDest</th>\n",
              "      <th>newbalanceDest</th>\n",
              "      <th>isFraud</th>\n",
              "      <th>isFlaggedFraud</th>\n",
              "    </tr>\n",
              "  </thead>\n",
              "  <tbody>\n",
              "    <tr>\n",
              "      <th>0</th>\n",
              "      <td>0</td>\n",
              "      <td>3</td>\n",
              "      <td>710400</td>\n",
              "      <td>757869</td>\n",
              "      <td>587897</td>\n",
              "      <td>1157557</td>\n",
              "      <td>1662094</td>\n",
              "      <td>0</td>\n",
              "      <td>0</td>\n",
              "      <td>0</td>\n",
              "      <td>0</td>\n",
              "    </tr>\n",
              "    <tr>\n",
              "      <th>1</th>\n",
              "      <td>0</td>\n",
              "      <td>3</td>\n",
              "      <td>141767</td>\n",
              "      <td>2188998</td>\n",
              "      <td>140919</td>\n",
              "      <td>336044</td>\n",
              "      <td>1733924</td>\n",
              "      <td>0</td>\n",
              "      <td>0</td>\n",
              "      <td>0</td>\n",
              "      <td>0</td>\n",
              "    </tr>\n",
              "    <tr>\n",
              "      <th>2</th>\n",
              "      <td>0</td>\n",
              "      <td>4</td>\n",
              "      <td>13666</td>\n",
              "      <td>1002156</td>\n",
              "      <td>1672</td>\n",
              "      <td>0</td>\n",
              "      <td>439685</td>\n",
              "      <td>0</td>\n",
              "      <td>0</td>\n",
              "      <td>1</td>\n",
              "      <td>0</td>\n",
              "    </tr>\n",
              "    <tr>\n",
              "      <th>3</th>\n",
              "      <td>0</td>\n",
              "      <td>1</td>\n",
              "      <td>13666</td>\n",
              "      <td>5828262</td>\n",
              "      <td>1672</td>\n",
              "      <td>0</td>\n",
              "      <td>391696</td>\n",
              "      <td>82843</td>\n",
              "      <td>0</td>\n",
              "      <td>1</td>\n",
              "      <td>0</td>\n",
              "    </tr>\n",
              "    <tr>\n",
              "      <th>4</th>\n",
              "      <td>0</td>\n",
              "      <td>3</td>\n",
              "      <td>822964</td>\n",
              "      <td>3445981</td>\n",
              "      <td>230032</td>\n",
              "      <td>456430</td>\n",
              "      <td>828919</td>\n",
              "      <td>0</td>\n",
              "      <td>0</td>\n",
              "      <td>0</td>\n",
              "      <td>0</td>\n",
              "    </tr>\n",
              "    <tr>\n",
              "      <th>5</th>\n",
              "      <td>0</td>\n",
              "      <td>3</td>\n",
              "      <td>576823</td>\n",
              "      <td>6026525</td>\n",
              "      <td>276798</td>\n",
              "      <td>599444</td>\n",
              "      <td>2247218</td>\n",
              "      <td>0</td>\n",
              "      <td>0</td>\n",
              "      <td>0</td>\n",
              "      <td>0</td>\n",
              "    </tr>\n",
              "    <tr>\n",
              "      <th>6</th>\n",
              "      <td>0</td>\n",
              "      <td>3</td>\n",
              "      <td>527683</td>\n",
              "      <td>1805947</td>\n",
              "      <td>613186</td>\n",
              "      <td>1208464</td>\n",
              "      <td>2063363</td>\n",
              "      <td>0</td>\n",
              "      <td>0</td>\n",
              "      <td>0</td>\n",
              "      <td>0</td>\n",
              "    </tr>\n",
              "    <tr>\n",
              "      <th>7</th>\n",
              "      <td>0</td>\n",
              "      <td>3</td>\n",
              "      <td>579814</td>\n",
              "      <td>2999171</td>\n",
              "      <td>599250</td>\n",
              "      <td>1183430</td>\n",
              "      <td>2314008</td>\n",
              "      <td>0</td>\n",
              "      <td>0</td>\n",
              "      <td>0</td>\n",
              "      <td>0</td>\n",
              "    </tr>\n",
              "    <tr>\n",
              "      <th>8</th>\n",
              "      <td>0</td>\n",
              "      <td>3</td>\n",
              "      <td>304861</td>\n",
              "      <td>869140</td>\n",
              "      <td>20694</td>\n",
              "      <td>0</td>\n",
              "      <td>768940</td>\n",
              "      <td>0</td>\n",
              "      <td>0</td>\n",
              "      <td>0</td>\n",
              "      <td>0</td>\n",
              "    </tr>\n",
              "    <tr>\n",
              "      <th>9</th>\n",
              "      <td>0</td>\n",
              "      <td>2</td>\n",
              "      <td>401807</td>\n",
              "      <td>5407276</td>\n",
              "      <td>230701</td>\n",
              "      <td>515728</td>\n",
              "      <td>282960</td>\n",
              "      <td>155355</td>\n",
              "      <td>127382</td>\n",
              "      <td>0</td>\n",
              "      <td>0</td>\n",
              "    </tr>\n",
              "  </tbody>\n",
              "</table>\n",
              "</div>"
            ],
            "text/plain": [
              "   step  type  amount  ...  newbalanceDest  isFraud  isFlaggedFraud\n",
              "0     0     3  710400  ...               0        0               0\n",
              "1     0     3  141767  ...               0        0               0\n",
              "2     0     4   13666  ...               0        1               0\n",
              "3     0     1   13666  ...               0        1               0\n",
              "4     0     3  822964  ...               0        0               0\n",
              "5     0     3  576823  ...               0        0               0\n",
              "6     0     3  527683  ...               0        0               0\n",
              "7     0     3  579814  ...               0        0               0\n",
              "8     0     3  304861  ...               0        0               0\n",
              "9     0     2  401807  ...          127382        0               0\n",
              "\n",
              "[10 rows x 11 columns]"
            ]
          },
          "metadata": {},
          "execution_count": 10
        }
      ]
    },
    {
      "cell_type": "code",
      "metadata": {
        "id": "Suw1GJlTxeh2"
      },
      "source": [
        "from scipy import stats"
      ],
      "execution_count": 11,
      "outputs": []
    },
    {
      "cell_type": "code",
      "metadata": {
        "colab": {
          "base_uri": "https://localhost:8080/"
        },
        "id": "E7HhJxULweVT",
        "outputId": "37339df3-2794-485e-f049-d6abc95af4a1"
      },
      "source": [
        "z = np.abs(stats.zscore(data1[['amount','oldbalanceOrg','newbalanceOrig','oldbalanceDest','newbalanceDest']]))\n",
        "print(z)"
      ],
      "execution_count": 12,
      "outputs": [
        {
          "output_type": "stream",
          "name": "stdout",
          "text": [
            "[[1.05558375 0.51496504 0.70598773 0.86656928 0.93331786]\n",
            " [1.4133344  0.39656776 0.28287818 0.86656928 0.93331786]\n",
            " [1.49392806 0.68053745 0.68737872 0.86656928 0.93331786]\n",
            " ...\n",
            " [1.83899018 2.48804532 0.68737872 0.6623277  1.86823662]\n",
            " [1.74442895 1.52842527 0.68737872 0.86656928 0.93331786]\n",
            " [1.74442895 1.52842527 0.68737872 1.97912021 1.90662749]]\n"
          ]
        }
      ]
    },
    {
      "cell_type": "code",
      "metadata": {
        "colab": {
          "base_uri": "https://localhost:8080/"
        },
        "id": "bjwSDo1_xmgr",
        "outputId": "bbd99303-bd5f-4996-853c-b3c0ed44c67a"
      },
      "source": [
        "threshold = 3\n",
        "print(np.where(z > 3))"
      ],
      "execution_count": 13,
      "outputs": [
        {
          "output_type": "stream",
          "name": "stdout",
          "text": [
            "(array([  19097,   19098,   19099, ..., 6362576, 6362578, 6362580]), array([1, 1, 1, ..., 1, 1, 1]))\n"
          ]
        }
      ]
    },
    {
      "cell_type": "code",
      "metadata": {
        "colab": {
          "base_uri": "https://localhost:8080/"
        },
        "id": "bqEWmqVNxyuc",
        "outputId": "c9addda3-6c6e-4339-b787-f57c89206f9d"
      },
      "source": [
        "print(z[84][4])\n"
      ],
      "execution_count": 14,
      "outputs": [
        {
          "output_type": "stream",
          "name": "stdout",
          "text": [
            "2.039181340010523\n"
          ]
        }
      ]
    },
    {
      "cell_type": "code",
      "metadata": {
        "id": "QcS0m6nZx9Zj"
      },
      "source": [
        "data_new = data1[(z < 3).all(axis=1)]"
      ],
      "execution_count": 15,
      "outputs": []
    },
    {
      "cell_type": "code",
      "metadata": {
        "colab": {
          "base_uri": "https://localhost:8080/"
        },
        "id": "cVsUafa5yHX1",
        "outputId": "576d40de-c412-464a-d21c-76b44a94500a"
      },
      "source": [
        "data1.shape"
      ],
      "execution_count": 16,
      "outputs": [
        {
          "output_type": "execute_result",
          "data": {
            "text/plain": [
              "(6362620, 11)"
            ]
          },
          "metadata": {},
          "execution_count": 16
        }
      ]
    },
    {
      "cell_type": "code",
      "metadata": {
        "colab": {
          "base_uri": "https://localhost:8080/"
        },
        "id": "t7e4pnmjyS9z",
        "outputId": "81490558-8d2e-4d7b-dc8f-e7b65380f684"
      },
      "source": [
        "data_new.shape"
      ],
      "execution_count": 17,
      "outputs": [
        {
          "output_type": "execute_result",
          "data": {
            "text/plain": [
              "(6323230, 11)"
            ]
          },
          "metadata": {},
          "execution_count": 17
        }
      ]
    },
    {
      "cell_type": "code",
      "metadata": {
        "colab": {
          "base_uri": "https://localhost:8080/",
          "height": 342
        },
        "id": "vJI0hml6yWXs",
        "outputId": "b389c377-3f4e-4b9b-ca86-bcc6d57b5772"
      },
      "source": [
        "corrMatrix = sns.heatmap(data_new[['step', 'type', 'amount', 'oldbalanceOrg', \\\n",
        "    'newbalanceOrig', 'oldbalanceDest', 'newbalanceDest', 'isFraud']].corr(),annot=True, fmt = \".2f\", cmap = \"coolwarm\")\n",
        "plt.show()"
      ],
      "execution_count": 18,
      "outputs": [
        {
          "output_type": "display_data",
          "data": {
            "image/png": "[encoded data removed]",
            "text/plain": [
              "<Figure size 432x288 with 2 Axes>"
            ]
          },
          "metadata": {
            "needs_background": "light"
          }
        }
      ]
    },
    {
      "cell_type": "code",
      "metadata": {
        "colab": {
          "base_uri": "https://localhost:8080/",
          "height": 88
        },
        "id": "uSKYsfZU_YCO",
        "outputId": "652faffd-e4c2-4b22-bfe0-b89c85cb6b8c"
      },
      "source": [
        "'''plt.figure(figsize=(10, 8))\n",
        "sns.boxplot(x=\"amount\", y=\"type\", data=data_new)\n",
        "plt.xlabel(\"Quant transactions\", size=14)\n",
        "plt.ylabel(\"Type transactions\", size=14)\n",
        "plt.title(\"Fraud detection - Outlayers of transactions\", size=18)\n",
        "plt.savefig(\"simple_boxplot_with_Seaborn_boxplot_Python.png\")\n",
        "plt.show()\n",
        "# Here we see that 'CasH_OUT, & 'TRANSFER' are kinds of outlayers.\n",
        "'''"
      ],
      "execution_count": 19,
      "outputs": [
        {
          "output_type": "execute_result",
          "data": {
            "application/vnd.google.colaboratory.intrinsic+json": {
              "type": "string"
            },
            "text/plain": [
              "'plt.figure(figsize=(10, 8))\\nsns.boxplot(x=\"amount\", y=\"type\", data=data_new)\\nplt.xlabel(\"Quant transactions\", size=14)\\nplt.ylabel(\"Type transactions\", size=14)\\nplt.title(\"Fraud detection - Outlayers of transactions\", size=18)\\nplt.savefig(\"simple_boxplot_with_Seaborn_boxplot_Python.png\")\\nplt.show()\\n# Here we see that \\'CasH_OUT, & \\'TRANSFER\\' are kinds of outlayers.\\n'"
            ]
          },
          "metadata": {},
          "execution_count": 19
        }
      ]
    },
    {
      "cell_type": "code",
      "metadata": {
        "id": "x2Z9blMS1fy1"
      },
      "source": [
        "from sklearn.model_selection import train_test_split\n",
        "x = data_new.drop('isFraud', axis=1)\n",
        "y = data_new['isFraud']\n",
        "\n",
        "#x = data2[['step','amount','newbalanceOrig','newbalanceDest','CASH_IN','CASH_OUT','DEBIT','PAYMENT','TRANSFER']]\n",
        "#y = data2[\"isFraud\"]\n",
        "\n",
        "X_train, X_test, Y_train, Y_test = train_test_split(x,y, test_size = 0.30, random_state = 0)\n"
      ],
      "execution_count": 20,
      "outputs": []
    },
    {
      "cell_type": "code",
      "metadata": {
        "id": "i6LjdNKs282s"
      },
      "source": [
        "# Models from Scikit-Learn\n",
        "from sklearn.linear_model import LogisticRegression\n",
        "from sklearn.neighbors import KNeighborsClassifier\n",
        "from sklearn.ensemble import RandomForestClassifier\n",
        "from sklearn.linear_model import SGDClassifier"
      ],
      "execution_count": 21,
      "outputs": []
    },
    {
      "cell_type": "code",
      "metadata": {
        "colab": {
          "base_uri": "https://localhost:8080/"
        },
        "id": "wKZAl2GodpLM",
        "outputId": "ee227427-1079-4892-a9a2-2d4361767205"
      },
      "source": [
        "# instantiating the model\n",
        "clf = LogisticRegression()\n",
        "\n",
        "# fitting the model with training data\n",
        "clf.fit(X_train, Y_train)\n",
        "ms=clf.score(X_train,Y_train)\n",
        "print(\"clf_score::\",ms)\n",
        "# making predictions with test data\n",
        "Y_pred = clf.predict(X_test)\n",
        "\n",
        "# printing key metrics\n",
        "from sklearn import metrics\n",
        "print(\"Accuracy:\",metrics.accuracy_score(Y_test, Y_pred))\n",
        "print(\"Precision:\",metrics.precision_score(Y_test, Y_pred))\n",
        "print(\"Recall:\",metrics.recall_score(Y_test, Y_pred))\n",
        "print(\"F1:\",metrics.f1_score(Y_test, Y_pred))\n",
        "\n",
        "\n"
      ],
      "execution_count": 33,
      "outputs": [
        {
          "output_type": "stream",
          "name": "stdout",
          "text": [
            "clf_score:: 0.9993195159526291\n",
            "Accuracy: 0.9992872840831875\n",
            "Precision: 0.8797886393659181\n",
            "Recall: 0.5323741007194245\n",
            "F1: 0.6633466135458167\n"
          ]
        }
      ]
    },
    {
      "cell_type": "code",
      "metadata": {
        "colab": {
          "base_uri": "https://localhost:8080/"
        },
        "id": "4Ea2O1BViAFW",
        "outputId": "bd319d74-c7f0-404a-deba-811bc66a6c46"
      },
      "source": [
        "from sklearn.metrics import confusion_matrix,classification_report\n",
        "# plotting a matrix of confusion\n",
        "cnf_matrix = metrics.confusion_matrix(Y_test, Y_pred)\n",
        "cnf_matrix\n",
        "\n",
        "# TN FP\n",
        "# FN TP"
      ],
      "execution_count": 39,
      "outputs": [
        {
          "output_type": "execute_result",
          "data": {
            "text/plain": [
              "array([[1894285,     182],\n",
              "       [   1170,    1332]])"
            ]
          },
          "metadata": {},
          "execution_count": 39
        }
      ]
    },
    {
      "cell_type": "code",
      "metadata": {
        "colab": {
          "base_uri": "https://localhost:8080/",
          "height": 370
        },
        "id": "bvJFfCiUSYJj",
        "outputId": "58749667-956e-4dfa-e642-4d3cb1424cfd"
      },
      "source": [
        "cm = metrics.confusion_matrix(Y_test, Y_pred)\n",
        "plt.figure(figsize= (6,6))\n",
        "sns.heatmap(cm, annot=True, fmt = \".0f\", linewidths=.8, square = True, cmap = 'copper_r');\n",
        "plt.ylabel('Actual label');\n",
        "plt.xlabel('predicted label')\n",
        "\n",
        "all_sample_title = 'Accuracy score: {:0.3f}'.format(ms)\n",
        "plt.title(all_sample_title, size =15);"
      ],
      "execution_count": 38,
      "outputs": [
        {
          "output_type": "display_data",
          "data": {
            "image/png": "[encoded data removed]",
            "text/plain": [
              "<Figure size 432x432 with 2 Axes>"
            ]
          },
          "metadata": {
            "needs_background": "light"
          }
        }
      ]
    },
    {
      "cell_type": "code",
      "metadata": {
        "colab": {
          "base_uri": "https://localhost:8080/"
        },
        "id": "cC0Z2zcESYtt",
        "outputId": "fc2b9ca0-3236-409e-b2f7-6e74887b1ea4"
      },
      "source": [
        "print(metrics.classification_report(Y_test,Y_pred))"
      ],
      "execution_count": 40,
      "outputs": [
        {
          "output_type": "stream",
          "name": "stdout",
          "text": [
            "              precision    recall  f1-score   support\n",
            "\n",
            "           0       1.00      1.00      1.00   1894467\n",
            "           1       0.88      0.53      0.66      2502\n",
            "\n",
            "    accuracy                           1.00   1896969\n",
            "   macro avg       0.94      0.77      0.83   1896969\n",
            "weighted avg       1.00      1.00      1.00   1896969\n",
            "\n"
          ]
        }
      ]
    },
    {
      "cell_type": "code",
      "metadata": {
        "colab": {
          "base_uri": "https://localhost:8080/"
        },
        "id": "d07u9V-_W5X0",
        "outputId": "d195ab49-e342-49a9-a514-68273cd7dcdd"
      },
      "source": [
        "from sklearn.model_selection import cross_val_score\n",
        "cross_val = cross_val_score(LogisticRegression(), X_test,Y_test, scoring = 'accuracy', cv=10)\n",
        "print(cross_val)"
      ],
      "execution_count": 42,
      "outputs": [
        {
          "output_type": "stream",
          "name": "stdout",
          "text": [
            "[0.99930415 0.9993516  0.99926725 0.99928834 0.99943594 0.99929361\n",
            " 0.99924617 0.99920399 0.99932524 0.99924616]\n"
          ]
        }
      ]
    },
    {
      "cell_type": "code",
      "metadata": {
        "colab": {
          "base_uri": "https://localhost:8080/"
        },
        "id": "tP-hAcjs2jUY",
        "outputId": "1ced5a41-896b-4837-9557-d50f104f0003"
      },
      "source": [
        "model = {\"Logistic Regression\": LogisticRegression(),\n",
        "         \"KNN\": KNeighborsClassifier(),\n",
        "         \"Random Forest\": RandomForestClassifier(),\n",
        "         \"SGD\": SGDClassifier()}\n",
        "\n",
        "def fit_and_evaluate(models, X_train, X_test, Y_train, Y_test):\n",
        "    \"\"\"\n",
        "    Fits and evaluates machine learning models.\n",
        "    models: a dictionary with machine learning models to be used\n",
        "    X_train: training data (no labels)\n",
        "    X_test: testing data (no labels)\n",
        "    Y_train: training labels\n",
        "    Y_test: testing labels\n",
        "    \"\"\"\n",
        "    # Create an empty dictionary for model scores\n",
        "    model_scores = {}\n",
        "    # Loop through models\n",
        "    for name, model in models.items():\n",
        "        model.fit(X_train, Y_train)\n",
        "        model_scores[name] = model.score(X_test, Y_test)\n",
        "    return model_scores\n",
        "\n",
        "model_scores = fit_and_evaluate(models = model,\n",
        "                                X_train = X_train,\n",
        "                                X_test = X_test,\n",
        "                                Y_train = Y_train,\n",
        "                                Y_test = Y_test)\n",
        "model_scores"
      ],
      "execution_count": null,
      "outputs": [
        {
          "output_type": "execute_result",
          "data": {
            "text/plain": [
              "{'KNN': 0.9992600607385054,\n",
              " 'Logistic Regression': 0.9994444982615258,\n",
              " 'Random Forest': 0.9996694354186814,\n",
              " 'SGD': 0.999379917763851}"
            ]
          },
          "metadata": {},
          "execution_count": 38
        }
      ]
    },
    {
      "cell_type": "code",
      "metadata": {
        "colab": {
          "base_uri": "https://localhost:8080/"
        },
        "id": "8H2RopMGJUEc",
        "outputId": "ab28a343-d3c2-4b99-cc76-830589690ea5"
      },
      "source": [
        "from sklearn import metrics\n",
        "from sklearn.tree import DecisionTreeClassifier\n",
        "\n",
        "# importing the library\n",
        "from sklearn import tree\n",
        "\n",
        "# instantiating the model\n",
        "clf = tree.DecisionTreeClassifier(criterion='gini',max_depth=100,min_samples_split=10)\n",
        "\n",
        "# fitting the model with training data\n",
        "clf = clf.fit(X_train, Y_train)\n",
        "\n",
        "# making predictions with test data\n",
        "Y_pred = clf.predict(X_test)\n",
        "\n",
        "# printing key metrics\n",
        "print(\"Accuracy:\",metrics.accuracy_score(Y_test, Y_pred))\n",
        "print(\"Precision:\",metrics.precision_score(Y_test, Y_pred))\n",
        "print(\"Recall:\",metrics.recall_score(Y_test, Y_pred))\n",
        "print(\"F1:\",metrics.f1_score(Y_test, Y_pred))\n",
        "\n"
      ],
      "execution_count": null,
      "outputs": [
        {
          "output_type": "stream",
          "name": "stdout",
          "text": [
            "Accuracy: 0.9996694354186814\n",
            "Precision: 0.8631239935587761\n",
            "Recall: 0.8216658150229944\n",
            "F1: 0.8418848167539268\n"
          ]
        }
      ]
    },
    {
      "cell_type": "code",
      "metadata": {
        "colab": {
          "base_uri": "https://localhost:8080/"
        },
        "id": "eDIf5CU4JUR9",
        "outputId": "86bc0337-110f-44d4-a1b9-2acc41d0a1e8"
      },
      "source": [
        "# plotting a matrix of confusion\n",
        "from sklearn.metrics import confusion_matrix\n",
        "cnf_matrix = metrics.confusion_matrix(Y_test, Y_pred)\n",
        "cnf_matrix\n",
        "\n",
        "# TN FP\n",
        "# FN TP"
      ],
      "execution_count": null,
      "outputs": [
        {
          "output_type": "execute_result",
          "data": {
            "text/plain": [
              "array([[1824965,     255],\n",
              "       [    349,    1608]])"
            ]
          },
          "metadata": {},
          "execution_count": 49
        }
      ]
    }
  ]
}